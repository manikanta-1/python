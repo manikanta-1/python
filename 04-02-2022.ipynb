{
 "cells": [
  {
   "cell_type": "code",
   "execution_count": 2,
   "id": "12d67a28",
   "metadata": {},
   "outputs": [
    {
     "name": "stdout",
     "output_type": "stream",
     "text": [
      "[1, 2, 3, 4, 5, 6, 7.8]\n",
      "['manikanta', 'kedar', 'gangadhar']\n",
      "['apple', 1, 3, 5, 7]\n"
     ]
    }
   ],
   "source": [
    "li=[1,2,3,4,5,6,7.8]  \n",
    "li1=['manikanta','kedar','gangadhar']  \n",
    "li2=['apple',1,3,5,7]  \n",
    "print(li)  \n",
    "print(li1)  \n",
    "print(li2)  "
   ]
  },
  {
   "cell_type": "code",
   "execution_count": 4,
   "id": "3557f491",
   "metadata": {},
   "outputs": [
    {
     "name": "stdout",
     "output_type": "stream",
     "text": [
      "[1, 2, 3, 4, 5, 6, 7.8, 78, 78]\n"
     ]
    }
   ],
   "source": [
    "li.append(78)  \n",
    "print(li)  "
   ]
  },
  {
   "cell_type": "code",
   "execution_count": 8,
   "id": "01e5efde",
   "metadata": {},
   "outputs": [
    {
     "name": "stdout",
     "output_type": "stream",
     "text": [
      "[1, 2, 3, 4, 5, 6, 7.8, 78, 78, 45, 88]\n"
     ]
    }
   ],
   "source": [
    "li.extend([45,88])\n",
    "print(li)  "
   ]
  },
  {
   "cell_type": "code",
   "execution_count": 9,
   "id": "bd1901b7",
   "metadata": {},
   "outputs": [
    {
     "name": "stdout",
     "output_type": "stream",
     "text": [
      "[1, 3, 5, 76]\n"
     ]
    }
   ],
   "source": [
    "li=[1,3,5,76,89.9]  \n",
    "li.pop()  \n",
    "print(li)  "
   ]
  },
  {
   "cell_type": "code",
   "execution_count": 10,
   "id": "b8908ffb",
   "metadata": {},
   "outputs": [
    {
     "name": "stdout",
     "output_type": "stream",
     "text": [
      "[1, 3, 5, 76]\n"
     ]
    }
   ],
   "source": [
    "li.sort()  \n",
    "print(li)  "
   ]
  },
  {
   "cell_type": "code",
   "execution_count": 11,
   "id": "27d23c9d",
   "metadata": {},
   "outputs": [
    {
     "name": "stdout",
     "output_type": "stream",
     "text": [
      "[76, 5, 3, 1]\n"
     ]
    }
   ],
   "source": [
    "li.reverse()  \n",
    "print(li)  "
   ]
  },
  {
   "cell_type": "code",
   "execution_count": 12,
   "id": "7d5ed8de",
   "metadata": {},
   "outputs": [
    {
     "name": "stdout",
     "output_type": "stream",
     "text": [
      "[]\n"
     ]
    }
   ],
   "source": [
    "li.clear()  \n",
    "print(li)  "
   ]
  },
  {
   "cell_type": "code",
   "execution_count": 14,
   "id": "26388f6a",
   "metadata": {},
   "outputs": [
    {
     "data": {
      "text/plain": [
       "[1, 3, 465, 'six', 789, 9]"
      ]
     },
     "execution_count": 14,
     "metadata": {},
     "output_type": "execute_result"
    }
   ],
   "source": [
    "li=[1,3,465,789,9]  \n",
    "li.insert(3,'six')  \n",
    "li"
   ]
  },
  {
   "cell_type": "code",
   "execution_count": 16,
   "id": "51bbf459",
   "metadata": {},
   "outputs": [
    {
     "name": "stdout",
     "output_type": "stream",
     "text": [
      "[0, 2, 4, 6, 8, 10]\n",
      "[1, 3, 5, 7, 9]\n",
      "[]\n"
     ]
    }
   ],
   "source": [
    "# print even and odd numbers   \n",
    "li=[]  \n",
    "li1=[]  \n",
    "li2=[]  \n",
    "for i in range(0,11):  \n",
    "    if i%2==0:  \n",
    "        li.append(i)  \n",
    "    else:  \n",
    "        li1.append(i)  \n",
    "print(li)   \n",
    "print(li1)  \n",
    "print(li2)  \n",
    "        "
   ]
  },
  {
   "cell_type": "code",
   "execution_count": 17,
   "id": "e630292c",
   "metadata": {},
   "outputs": [
    {
     "name": "stdout",
     "output_type": "stream",
     "text": [
      "478\n"
     ]
    }
   ],
   "source": [
    "# print max value  \n",
    "si=[34,67,89,67,5,67,478]  \n",
    "print(max(si))  "
   ]
  },
  {
   "cell_type": "code",
   "execution_count": 20,
   "id": "3d148409",
   "metadata": {},
   "outputs": [
    {
     "name": "stdout",
     "output_type": "stream",
     "text": [
      "largest number: 778\n"
     ]
    }
   ],
   "source": [
    "si=[46,778,57,5,77,8]   \n",
    "high=0  \n",
    "for i in si:  \n",
    "    if i>=high:  \n",
    "        high=i    \n",
    "print(\"largest number:\",high)  "
   ]
  },
  {
   "cell_type": "markdown",
   "id": "f5b55447",
   "metadata": {},
   "source": [
    "### Tuple  \n",
    "- tuple represented with ()\n"
   ]
  },
  {
   "cell_type": "code",
   "execution_count": 26,
   "id": "50dcb164",
   "metadata": {},
   "outputs": [
    {
     "data": {
      "text/plain": [
       "['__add__',\n",
       " '__class__',\n",
       " '__contains__',\n",
       " '__delattr__',\n",
       " '__dir__',\n",
       " '__doc__',\n",
       " '__eq__',\n",
       " '__format__',\n",
       " '__ge__',\n",
       " '__getattribute__',\n",
       " '__getitem__',\n",
       " '__getnewargs__',\n",
       " '__gt__',\n",
       " '__hash__',\n",
       " '__init__',\n",
       " '__init_subclass__',\n",
       " '__iter__',\n",
       " '__le__',\n",
       " '__len__',\n",
       " '__lt__',\n",
       " '__mod__',\n",
       " '__mul__',\n",
       " '__ne__',\n",
       " '__new__',\n",
       " '__reduce__',\n",
       " '__reduce_ex__',\n",
       " '__repr__',\n",
       " '__rmod__',\n",
       " '__rmul__',\n",
       " '__setattr__',\n",
       " '__sizeof__',\n",
       " '__str__',\n",
       " '__subclasshook__',\n",
       " 'capitalize',\n",
       " 'casefold',\n",
       " 'center',\n",
       " 'count',\n",
       " 'encode',\n",
       " 'endswith',\n",
       " 'expandtabs',\n",
       " 'find',\n",
       " 'format',\n",
       " 'format_map',\n",
       " 'index',\n",
       " 'isalnum',\n",
       " 'isalpha',\n",
       " 'isascii',\n",
       " 'isdecimal',\n",
       " 'isdigit',\n",
       " 'isidentifier',\n",
       " 'islower',\n",
       " 'isnumeric',\n",
       " 'isprintable',\n",
       " 'isspace',\n",
       " 'istitle',\n",
       " 'isupper',\n",
       " 'join',\n",
       " 'ljust',\n",
       " 'lower',\n",
       " 'lstrip',\n",
       " 'maketrans',\n",
       " 'partition',\n",
       " 'removeprefix',\n",
       " 'removesuffix',\n",
       " 'replace',\n",
       " 'rfind',\n",
       " 'rindex',\n",
       " 'rjust',\n",
       " 'rpartition',\n",
       " 'rsplit',\n",
       " 'rstrip',\n",
       " 'split',\n",
       " 'splitlines',\n",
       " 'startswith',\n",
       " 'strip',\n",
       " 'swapcase',\n",
       " 'title',\n",
       " 'translate',\n",
       " 'upper',\n",
       " 'zfill']"
      ]
     },
     "execution_count": 26,
     "metadata": {},
     "output_type": "execute_result"
    }
   ],
   "source": [
    "dir('tuple')  "
   ]
  },
  {
   "cell_type": "code",
   "execution_count": 24,
   "id": "43fd281e",
   "metadata": {},
   "outputs": [
    {
     "data": {
      "text/plain": [
       "1"
      ]
     },
     "execution_count": 24,
     "metadata": {},
     "output_type": "execute_result"
    }
   ],
   "source": [
    "t=(1,3,45,5,7,8,68)\n",
    "t.count(1)  "
   ]
  },
  {
   "cell_type": "code",
   "execution_count": 25,
   "id": "dc246501",
   "metadata": {},
   "outputs": [
    {
     "name": "stdout",
     "output_type": "stream",
     "text": [
      "<class 'tuple'>\n"
     ]
    }
   ],
   "source": [
    "print(type(t))"
   ]
  },
  {
   "cell_type": "markdown",
   "id": "8862072f",
   "metadata": {},
   "source": [
    "### set"
   ]
  },
  {
   "cell_type": "code",
   "execution_count": 1,
   "id": "c3385598",
   "metadata": {},
   "outputs": [
    {
     "data": {
      "text/plain": [
       "['__and__',\n",
       " '__class__',\n",
       " '__class_getitem__',\n",
       " '__contains__',\n",
       " '__delattr__',\n",
       " '__dir__',\n",
       " '__doc__',\n",
       " '__eq__',\n",
       " '__format__',\n",
       " '__ge__',\n",
       " '__getattribute__',\n",
       " '__gt__',\n",
       " '__hash__',\n",
       " '__iand__',\n",
       " '__init__',\n",
       " '__init_subclass__',\n",
       " '__ior__',\n",
       " '__isub__',\n",
       " '__iter__',\n",
       " '__ixor__',\n",
       " '__le__',\n",
       " '__len__',\n",
       " '__lt__',\n",
       " '__ne__',\n",
       " '__new__',\n",
       " '__or__',\n",
       " '__rand__',\n",
       " '__reduce__',\n",
       " '__reduce_ex__',\n",
       " '__repr__',\n",
       " '__ror__',\n",
       " '__rsub__',\n",
       " '__rxor__',\n",
       " '__setattr__',\n",
       " '__sizeof__',\n",
       " '__str__',\n",
       " '__sub__',\n",
       " '__subclasshook__',\n",
       " '__xor__',\n",
       " 'add',\n",
       " 'clear',\n",
       " 'copy',\n",
       " 'difference',\n",
       " 'difference_update',\n",
       " 'discard',\n",
       " 'intersection',\n",
       " 'intersection_update',\n",
       " 'isdisjoint',\n",
       " 'issubset',\n",
       " 'issuperset',\n",
       " 'pop',\n",
       " 'remove',\n",
       " 'symmetric_difference',\n",
       " 'symmetric_difference_update',\n",
       " 'union',\n",
       " 'update']"
      ]
     },
     "execution_count": 1,
     "metadata": {},
     "output_type": "execute_result"
    }
   ],
   "source": [
    "dir(set)"
   ]
  },
  {
   "cell_type": "code",
   "execution_count": 17,
   "id": "f8f8b5fc",
   "metadata": {},
   "outputs": [
    {
     "name": "stdout",
     "output_type": "stream",
     "text": [
      "{'fox', 'dragon', 'dog', 'cat', 'lion'}\n"
     ]
    }
   ],
   "source": [
    "s={'fox','cat','dog','lion','dragon'}  \n",
    "print(s)  "
   ]
  },
  {
   "cell_type": "code",
   "execution_count": 18,
   "id": "e3da232a",
   "metadata": {},
   "outputs": [],
   "source": [
    "s.add('cheetah')"
   ]
  },
  {
   "cell_type": "code",
   "execution_count": 19,
   "id": "110e348a",
   "metadata": {},
   "outputs": [
    {
     "name": "stdout",
     "output_type": "stream",
     "text": [
      "{'cheetah', 'fox', 'dragon', 'dog', 'cat', 'lion'}\n"
     ]
    }
   ],
   "source": [
    "print(s)"
   ]
  },
  {
   "cell_type": "code",
   "execution_count": 20,
   "id": "cce41597",
   "metadata": {},
   "outputs": [
    {
     "name": "stdout",
     "output_type": "stream",
     "text": [
      "{4, 5, 'cheetah', 'dog', 21, 'fox', 'dragon', 'lion', 'cat', 63}\n"
     ]
    }
   ],
   "source": [
    "s.update({4,5,21,63,})\n",
    "print(s)"
   ]
  },
  {
   "cell_type": "code",
   "execution_count": null,
   "id": "549d1d3f",
   "metadata": {},
   "outputs": [],
   "source": [
    "#deletion  \n",
    "# clear()- to clear the all data  \n",
    "# remove()- it is used to remove a particular value  \n",
    "# discard()- it is also used to discard avalue  \n",
    "# pop()- to delete random elements  \n"
   ]
  },
  {
   "cell_type": "code",
   "execution_count": 21,
   "id": "3ecf412a",
   "metadata": {},
   "outputs": [],
   "source": [
    "s.remove('cat')  "
   ]
  },
  {
   "cell_type": "code",
   "execution_count": 23,
   "id": "04988a68",
   "metadata": {},
   "outputs": [
    {
     "name": "stdout",
     "output_type": "stream",
     "text": [
      "{4, 5, 'cheetah', 'dog', 21, 'fox', 'dragon', 'lion', 63}\n"
     ]
    }
   ],
   "source": [
    "print(s)    "
   ]
  },
  {
   "cell_type": "code",
   "execution_count": 24,
   "id": "39cd25c1",
   "metadata": {},
   "outputs": [],
   "source": [
    "s.discard('lion')  "
   ]
  },
  {
   "cell_type": "code",
   "execution_count": 25,
   "id": "7afbdf8f",
   "metadata": {},
   "outputs": [
    {
     "name": "stdout",
     "output_type": "stream",
     "text": [
      "{4, 5, 'cheetah', 'dog', 21, 'fox', 'dragon', 63}\n"
     ]
    }
   ],
   "source": [
    "print(s)  "
   ]
  },
  {
   "cell_type": "code",
   "execution_count": 27,
   "id": "80519249",
   "metadata": {},
   "outputs": [
    {
     "data": {
      "text/plain": [
       "4"
      ]
     },
     "execution_count": 27,
     "metadata": {},
     "output_type": "execute_result"
    }
   ],
   "source": [
    "s.pop()"
   ]
  },
  {
   "cell_type": "code",
   "execution_count": 28,
   "id": "9fa2acf2",
   "metadata": {},
   "outputs": [
    {
     "name": "stdout",
     "output_type": "stream",
     "text": [
      "{5, 'cheetah', 'dog', 21, 'fox', 'dragon', 63}\n"
     ]
    }
   ],
   "source": [
    "print(s)"
   ]
  },
  {
   "cell_type": "markdown",
   "id": "d83f6ed5",
   "metadata": {},
   "source": [
    "### set operations   \n",
    "- union:combination all elements from two sets  \n",
    "- intersection:common elements from two sets  \n",
    "- difference:all the remaining elements from a set after removing common  elements  \n",
    "- symmetric-difference: uncommon elements from both sides"
   ]
  },
  {
   "cell_type": "code",
   "execution_count": 30,
   "id": "ceb3f3c8",
   "metadata": {},
   "outputs": [
    {
     "data": {
      "text/plain": [
       "{2, 3, 4, 5, 6, 7, 8, 9}"
      ]
     },
     "execution_count": 30,
     "metadata": {},
     "output_type": "execute_result"
    }
   ],
   "source": [
    "a={2,5,7,9,7,8}  \n",
    "b={4,6,8,5,3}  \n",
    "a.union(b) "
   ]
  },
  {
   "cell_type": "code",
   "execution_count": 31,
   "id": "f30da53f",
   "metadata": {},
   "outputs": [
    {
     "name": "stdout",
     "output_type": "stream",
     "text": [
      "{2, 5, 7, 8, 9}\n",
      "{3, 4, 5, 6, 8}\n"
     ]
    }
   ],
   "source": [
    "print(a)  \n",
    "print(b)  \n"
   ]
  },
  {
   "cell_type": "code",
   "execution_count": 34,
   "id": "41e6531c",
   "metadata": {},
   "outputs": [
    {
     "name": "stdout",
     "output_type": "stream",
     "text": [
      "{8, 5}\n"
     ]
    }
   ],
   "source": [
    "print(a.intersection(b))"
   ]
  },
  {
   "cell_type": "code",
   "execution_count": 35,
   "id": "a5c9fd4e",
   "metadata": {},
   "outputs": [
    {
     "name": "stdout",
     "output_type": "stream",
     "text": [
      "{9, 2, 7}\n"
     ]
    }
   ],
   "source": [
    "print(a.difference(b))"
   ]
  },
  {
   "cell_type": "code",
   "execution_count": 36,
   "id": "5c039d47",
   "metadata": {},
   "outputs": [
    {
     "name": "stdout",
     "output_type": "stream",
     "text": [
      "{3, 4, 6}\n"
     ]
    }
   ],
   "source": [
    "print(b.difference(a))  "
   ]
  },
  {
   "cell_type": "code",
   "execution_count": 37,
   "id": "ef69582c",
   "metadata": {},
   "outputs": [
    {
     "name": "stdout",
     "output_type": "stream",
     "text": [
      "{2, 3, 4, 6, 7, 9}\n"
     ]
    }
   ],
   "source": [
    "print(a.symmetric_difference(b))  "
   ]
  },
  {
   "cell_type": "code",
   "execution_count": 38,
   "id": "e552abd6",
   "metadata": {},
   "outputs": [
    {
     "name": "stdout",
     "output_type": "stream",
     "text": [
      "{8, 2, 4, 6}\n"
     ]
    }
   ],
   "source": [
    "a={2,4,6,8}  \n",
    "a1=a.copy()  \n",
    "print(a)"
   ]
  },
  {
   "cell_type": "code",
   "execution_count": 41,
   "id": "f2fad94d",
   "metadata": {},
   "outputs": [
    {
     "name": "stdout",
     "output_type": "stream",
     "text": [
      "True\n",
      "True\n"
     ]
    }
   ],
   "source": [
    "m={1,2,3,4,5,6}  \n",
    "n={3,6}  \n",
    "print(n.issubset(m))  \n",
    "print(m.issuperset(n))  "
   ]
  },
  {
   "cell_type": "code",
   "execution_count": 42,
   "id": "a1fc40ad",
   "metadata": {},
   "outputs": [
    {
     "data": {
      "text/plain": [
       "True"
      ]
     },
     "execution_count": 42,
     "metadata": {},
     "output_type": "execute_result"
    }
   ],
   "source": [
    "l={4,5,6,7}  \n",
    "p={1,2,3}  \n",
    "l.isdisjoint(p)  "
   ]
  },
  {
   "cell_type": "code",
   "execution_count": 44,
   "id": "d9ec1891",
   "metadata": {},
   "outputs": [
    {
     "name": "stdout",
     "output_type": "stream",
     "text": [
      "None\n"
     ]
    }
   ],
   "source": [
    "a={10,20,30,40}  \n",
    "b={40,50,60,70}  \n",
    "print(a.difference_update(b))  "
   ]
  },
  {
   "cell_type": "markdown",
   "id": "219b3d64",
   "metadata": {},
   "source": [
    "### DICTIONARY  \n",
    "- dictionary is an unordered collection of items  \n",
    "- each item of a dictionary has a key and value pair:::{key:value}\n",
    "- dictionary is mutable and changable  \n",
    "- in python dictionary writtten {}  \n",
    "- keys are not allow duplicate values   \n",
    "- values are allowed to duplicate values  \n",
    "- entire dictionary depending upon key   \n",
    "   - keys are unique inn nature  \n",
    "   - keys can be written in any  data type  \n",
    "- values maybe similar to values, mentioned as any datatype  \n",
    "- key and value together called as a item  \n",
    "- in dictionary indexing is not supported"
   ]
  },
  {
   "cell_type": "code",
   "execution_count": 45,
   "id": "f0a52147",
   "metadata": {},
   "outputs": [
    {
     "name": "stdout",
     "output_type": "stream",
     "text": [
      "<class 'dict'>\n"
     ]
    }
   ],
   "source": [
    "d={}  \n",
    "print(type(d))"
   ]
  },
  {
   "cell_type": "code",
   "execution_count": 47,
   "id": "a90ac9b2",
   "metadata": {},
   "outputs": [
    {
     "data": {
      "text/plain": [
       "{34: 56, 45: 56, 78: 89, 9: 45}"
      ]
     },
     "execution_count": 47,
     "metadata": {},
     "output_type": "execute_result"
    }
   ],
   "source": [
    "d={34:56,45:56,78:89,9:45}# key cant mention duplicate values  \n",
    "d"
   ]
  },
  {
   "cell_type": "code",
   "execution_count": 48,
   "id": "be28e33a",
   "metadata": {},
   "outputs": [
    {
     "name": "stdout",
     "output_type": "stream",
     "text": [
      "166\n",
      "4\n",
      "78\n",
      "9\n",
      "[9, 34, 45, 78]\n"
     ]
    }
   ],
   "source": [
    "print(sum(d)) \n",
    "print(len(d))  \n",
    "print(max(d))  \n",
    "print(min(d))  \n",
    "print(sorted(d))"
   ]
  },
  {
   "cell_type": "code",
   "execution_count": 49,
   "id": "2ea0070c",
   "metadata": {},
   "outputs": [
    {
     "data": {
      "text/plain": [
       "89"
      ]
     },
     "execution_count": 49,
     "metadata": {},
     "output_type": "execute_result"
    }
   ],
   "source": [
    "d[78]"
   ]
  },
  {
   "cell_type": "code",
   "execution_count": 54,
   "id": "c1c21387",
   "metadata": {},
   "outputs": [
    {
     "data": {
      "text/plain": [
       "['__class__',\n",
       " '__class_getitem__',\n",
       " '__contains__',\n",
       " '__delattr__',\n",
       " '__delitem__',\n",
       " '__dir__',\n",
       " '__doc__',\n",
       " '__eq__',\n",
       " '__format__',\n",
       " '__ge__',\n",
       " '__getattribute__',\n",
       " '__getitem__',\n",
       " '__gt__',\n",
       " '__hash__',\n",
       " '__init__',\n",
       " '__init_subclass__',\n",
       " '__ior__',\n",
       " '__iter__',\n",
       " '__le__',\n",
       " '__len__',\n",
       " '__lt__',\n",
       " '__ne__',\n",
       " '__new__',\n",
       " '__or__',\n",
       " '__reduce__',\n",
       " '__reduce_ex__',\n",
       " '__repr__',\n",
       " '__reversed__',\n",
       " '__ror__',\n",
       " '__setattr__',\n",
       " '__setitem__',\n",
       " '__sizeof__',\n",
       " '__str__',\n",
       " '__subclasshook__',\n",
       " 'clear',\n",
       " 'copy',\n",
       " 'fromkeys',\n",
       " 'get',\n",
       " 'items',\n",
       " 'keys',\n",
       " 'pop',\n",
       " 'popitem',\n",
       " 'setdefault',\n",
       " 'update',\n",
       " 'values']"
      ]
     },
     "execution_count": 54,
     "metadata": {},
     "output_type": "execute_result"
    }
   ],
   "source": [
    "dir(dict)  "
   ]
  },
  {
   "cell_type": "code",
   "execution_count": 55,
   "id": "ddaa5cdd",
   "metadata": {},
   "outputs": [
    {
     "name": "stdout",
     "output_type": "stream",
     "text": [
      "56\n",
      "dict_keys([34, 45, 78, 9])\n",
      "dict_values([56, 56, 89, 45])\n"
     ]
    }
   ],
   "source": [
    "print(d.get(34))  \n",
    "print(d.keys())  \n",
    "print(d.values())   "
   ]
  },
  {
   "cell_type": "code",
   "execution_count": 59,
   "id": "94d96e78",
   "metadata": {},
   "outputs": [
    {
     "data": {
      "text/plain": [
       "{34: 56, 45: 56, 78: 89, 9: 45, 'python': 'workshop'}"
      ]
     },
     "execution_count": 59,
     "metadata": {},
     "output_type": "execute_result"
    }
   ],
   "source": [
    "d['python']=\"workshop\"   \n",
    "d  "
   ]
  },
  {
   "cell_type": "code",
   "execution_count": 61,
   "id": "5fbbfa3c",
   "metadata": {},
   "outputs": [
    {
     "data": {
      "text/plain": [
       "56"
      ]
     },
     "execution_count": 61,
     "metadata": {},
     "output_type": "execute_result"
    }
   ],
   "source": [
    "d.pop(34)  "
   ]
  },
  {
   "cell_type": "code",
   "execution_count": 62,
   "id": "16769b5f",
   "metadata": {},
   "outputs": [
    {
     "data": {
      "text/plain": [
       "{45: 56, 78: 89, 9: 45, 'python': 'workshop'}"
      ]
     },
     "execution_count": 62,
     "metadata": {},
     "output_type": "execute_result"
    }
   ],
   "source": [
    "d"
   ]
  },
  {
   "cell_type": "code",
   "execution_count": 63,
   "id": "5da05574",
   "metadata": {},
   "outputs": [
    {
     "data": {
      "text/plain": [
       "('python', 'workshop')"
      ]
     },
     "execution_count": 63,
     "metadata": {},
     "output_type": "execute_result"
    }
   ],
   "source": [
    "d.popitem()  "
   ]
  },
  {
   "cell_type": "code",
   "execution_count": 64,
   "id": "99c15e1c",
   "metadata": {},
   "outputs": [
    {
     "data": {
      "text/plain": [
       "{45: 56, 78: 89, 9: 45}"
      ]
     },
     "execution_count": 64,
     "metadata": {},
     "output_type": "execute_result"
    }
   ],
   "source": [
    "d"
   ]
  },
  {
   "cell_type": "code",
   "execution_count": 65,
   "id": "a6f995c3",
   "metadata": {},
   "outputs": [
    {
     "data": {
      "text/plain": [
       "dict_items([(45, 56), (78, 89), (9, 45)])"
      ]
     },
     "execution_count": 65,
     "metadata": {},
     "output_type": "execute_result"
    }
   ],
   "source": [
    "d.items()"
   ]
  },
  {
   "cell_type": "code",
   "execution_count": 66,
   "id": "b476a840",
   "metadata": {},
   "outputs": [
    {
     "name": "stdout",
     "output_type": "stream",
     "text": [
      "{45: 56, 78: 89, 9: 45}\n",
      "{45: 56, 78: 89, 9: 45}\n"
     ]
    }
   ],
   "source": [
    "d1=d.copy()\n",
    "print(d1)  \n",
    "print(d)  "
   ]
  },
  {
   "cell_type": "code",
   "execution_count": 68,
   "id": "98906afd",
   "metadata": {},
   "outputs": [
    {
     "data": {
      "text/plain": [
       "{'w': None, 'o': None, 'r': None, 'k': None}"
      ]
     },
     "execution_count": 68,
     "metadata": {},
     "output_type": "execute_result"
    }
   ],
   "source": [
    "d1.fromkeys(\"work\")  "
   ]
  },
  {
   "cell_type": "code",
   "execution_count": 69,
   "id": "8e4b0dd0",
   "metadata": {},
   "outputs": [
    {
     "data": {
      "text/plain": [
       "{'p': 45, 'y': 45, 't': 45, 'h': 45}"
      ]
     },
     "execution_count": 69,
     "metadata": {},
     "output_type": "execute_result"
    }
   ],
   "source": [
    "d1.fromkeys('pyth',45)"
   ]
  },
  {
   "cell_type": "code",
   "execution_count": 71,
   "id": "a21b3170",
   "metadata": {},
   "outputs": [
    {
     "name": "stdout",
     "output_type": "stream",
     "text": [
      "{45: 56, 78: 89, 9: 45, 'mani': 'kedar'}\n"
     ]
    }
   ],
   "source": [
    "d.update({'mani':'kedar'})  \n",
    "print(d)"
   ]
  },
  {
   "cell_type": "raw",
   "id": "3428e5df",
   "metadata": {},
   "source": []
  }
 ],
 "metadata": {
  "kernelspec": {
   "display_name": "Python 3 (ipykernel)",
   "language": "python",
   "name": "python3"
  },
  "language_info": {
   "codemirror_mode": {
    "name": "ipython",
    "version": 3
   },
   "file_extension": ".py",
   "mimetype": "text/x-python",
   "name": "python",
   "nbconvert_exporter": "python",
   "pygments_lexer": "ipython3",
   "version": "3.9.7"
  }
 },
 "nbformat": 4,
 "nbformat_minor": 5
}
