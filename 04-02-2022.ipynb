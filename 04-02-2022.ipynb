{
 "cells": [
  {
   "cell_type": "code",
   "execution_count": 2,
   "id": "12d67a28",
   "metadata": {},
   "outputs": [
    {
     "name": "stdout",
     "output_type": "stream",
     "text": [
      "[1, 2, 3, 4, 5, 6, 7.8]\n",
      "['manikanta', 'kedar', 'gangadhar']\n",
      "['apple', 1, 3, 5, 7]\n"
     ]
    }
   ],
   "source": [
    "li=[1,2,3,4,5,6,7.8]  \n",
    "li1=['manikanta','kedar','gangadhar']  \n",
    "li2=['apple',1,3,5,7]  \n",
    "print(li)  \n",
    "print(li1)  \n",
    "print(li2)  "
   ]
  },
  {
   "cell_type": "code",
   "execution_count": 4,
   "id": "3557f491",
   "metadata": {},
   "outputs": [
    {
     "name": "stdout",
     "output_type": "stream",
     "text": [
      "[1, 2, 3, 4, 5, 6, 7.8, 78, 78]\n"
     ]
    }
   ],
   "source": [
    "li.append(78)  \n",
    "print(li)  "
   ]
  },
  {
   "cell_type": "code",
   "execution_count": 8,
   "id": "01e5efde",
   "metadata": {},
   "outputs": [
    {
     "name": "stdout",
     "output_type": "stream",
     "text": [
      "[1, 2, 3, 4, 5, 6, 7.8, 78, 78, 45, 88]\n"
     ]
    }
   ],
   "source": [
    "li.extend([45,88])\n",
    "print(li)  "
   ]
  },
  {
   "cell_type": "code",
   "execution_count": 9,
   "id": "bd1901b7",
   "metadata": {},
   "outputs": [
    {
     "name": "stdout",
     "output_type": "stream",
     "text": [
      "[1, 3, 5, 76]\n"
     ]
    }
   ],
   "source": [
    "li=[1,3,5,76,89.9]  \n",
    "li.pop()  \n",
    "print(li)  "
   ]
  },
  {
   "cell_type": "code",
   "execution_count": 10,
   "id": "b8908ffb",
   "metadata": {},
   "outputs": [
    {
     "name": "stdout",
     "output_type": "stream",
     "text": [
      "[1, 3, 5, 76]\n"
     ]
    }
   ],
   "source": [
    "li.sort()  \n",
    "print(li)  "
   ]
  },
  {
   "cell_type": "code",
   "execution_count": 11,
   "id": "27d23c9d",
   "metadata": {},
   "outputs": [
    {
     "name": "stdout",
     "output_type": "stream",
     "text": [
      "[76, 5, 3, 1]\n"
     ]
    }
   ],
   "source": [
    "li.reverse()  \n",
    "print(li)  "
   ]
  },
  {
   "cell_type": "code",
   "execution_count": 12,
   "id": "7d5ed8de",
   "metadata": {},
   "outputs": [
    {
     "name": "stdout",
     "output_type": "stream",
     "text": [
      "[]\n"
     ]
    }
   ],
   "source": [
    "li.clear()  \n",
    "print(li)  "
   ]
  },
  {
   "cell_type": "code",
   "execution_count": 14,
   "id": "26388f6a",
   "metadata": {},
   "outputs": [
    {
     "data": {
      "text/plain": [
       "[1, 3, 465, 'six', 789, 9]"
      ]
     },
     "execution_count": 14,
     "metadata": {},
     "output_type": "execute_result"
    }
   ],
   "source": [
    "li=[1,3,465,789,9]  \n",
    "li.insert(3,'six')  \n",
    "li"
   ]
  },
  {
   "cell_type": "code",
   "execution_count": 16,
   "id": "51bbf459",
   "metadata": {},
   "outputs": [
    {
     "name": "stdout",
     "output_type": "stream",
     "text": [
      "[0, 2, 4, 6, 8, 10]\n",
      "[1, 3, 5, 7, 9]\n",
      "[]\n"
     ]
    }
   ],
   "source": [
    "# print even and odd numbers   \n",
    "li=[]  \n",
    "li1=[]  \n",
    "li2=[]  \n",
    "for i in range(0,11):  \n",
    "    if i%2==0:  \n",
    "        li.append(i)  \n",
    "    else:  \n",
    "        li1.append(i)  \n",
    "print(li)   \n",
    "print(li1)  \n",
    "print(li2)  \n",
    "        "
   ]
  },
  {
   "cell_type": "code",
   "execution_count": 17,
   "id": "e630292c",
   "metadata": {},
   "outputs": [
    {
     "name": "stdout",
     "output_type": "stream",
     "text": [
      "478\n"
     ]
    }
   ],
   "source": [
    "# print max value  \n",
    "si=[34,67,89,67,5,67,478]  \n",
    "print(max(si))  "
   ]
  },
  {
   "cell_type": "code",
   "execution_count": 20,
   "id": "3d148409",
   "metadata": {},
   "outputs": [
    {
     "name": "stdout",
     "output_type": "stream",
     "text": [
      "largest number: 778\n"
     ]
    }
   ],
   "source": [
    "si=[46,778,57,5,77,8]   \n",
    "high=0  \n",
    "for i in si:  \n",
    "    if i>=high:  \n",
    "        high=i    \n",
    "print(\"largest number:\",high)  "
   ]
  },
  {
   "cell_type": "markdown",
   "id": "f5b55447",
   "metadata": {},
   "source": [
    "### Tuple  \n",
    "- tuple represented with ()\n"
   ]
  },
  {
   "cell_type": "code",
   "execution_count": 26,
   "id": "50dcb164",
   "metadata": {},
   "outputs": [
    {
     "data": {
      "text/plain": [
       "['__add__',\n",
       " '__class__',\n",
       " '__contains__',\n",
       " '__delattr__',\n",
       " '__dir__',\n",
       " '__doc__',\n",
       " '__eq__',\n",
       " '__format__',\n",
       " '__ge__',\n",
       " '__getattribute__',\n",
       " '__getitem__',\n",
       " '__getnewargs__',\n",
       " '__gt__',\n",
       " '__hash__',\n",
       " '__init__',\n",
       " '__init_subclass__',\n",
       " '__iter__',\n",
       " '__le__',\n",
       " '__len__',\n",
       " '__lt__',\n",
       " '__mod__',\n",
       " '__mul__',\n",
       " '__ne__',\n",
       " '__new__',\n",
       " '__reduce__',\n",
       " '__reduce_ex__',\n",
       " '__repr__',\n",
       " '__rmod__',\n",
       " '__rmul__',\n",
       " '__setattr__',\n",
       " '__sizeof__',\n",
       " '__str__',\n",
       " '__subclasshook__',\n",
       " 'capitalize',\n",
       " 'casefold',\n",
       " 'center',\n",
       " 'count',\n",
       " 'encode',\n",
       " 'endswith',\n",
       " 'expandtabs',\n",
       " 'find',\n",
       " 'format',\n",
       " 'format_map',\n",
       " 'index',\n",
       " 'isalnum',\n",
       " 'isalpha',\n",
       " 'isascii',\n",
       " 'isdecimal',\n",
       " 'isdigit',\n",
       " 'isidentifier',\n",
       " 'islower',\n",
       " 'isnumeric',\n",
       " 'isprintable',\n",
       " 'isspace',\n",
       " 'istitle',\n",
       " 'isupper',\n",
       " 'join',\n",
       " 'ljust',\n",
       " 'lower',\n",
       " 'lstrip',\n",
       " 'maketrans',\n",
       " 'partition',\n",
       " 'removeprefix',\n",
       " 'removesuffix',\n",
       " 'replace',\n",
       " 'rfind',\n",
       " 'rindex',\n",
       " 'rjust',\n",
       " 'rpartition',\n",
       " 'rsplit',\n",
       " 'rstrip',\n",
       " 'split',\n",
       " 'splitlines',\n",
       " 'startswith',\n",
       " 'strip',\n",
       " 'swapcase',\n",
       " 'title',\n",
       " 'translate',\n",
       " 'upper',\n",
       " 'zfill']"
      ]
     },
     "execution_count": 26,
     "metadata": {},
     "output_type": "execute_result"
    }
   ],
   "source": [
    "dir('tuple')  "
   ]
  },
  {
   "cell_type": "code",
   "execution_count": 24,
   "id": "43fd281e",
   "metadata": {},
   "outputs": [
    {
     "data": {
      "text/plain": [
       "1"
      ]
     },
     "execution_count": 24,
     "metadata": {},
     "output_type": "execute_result"
    }
   ],
   "source": [
    "t=(1,3,45,5,7,8,68)\n",
    "t.count(1)  "
   ]
  },
  {
   "cell_type": "code",
   "execution_count": 25,
   "id": "dc246501",
   "metadata": {},
   "outputs": [
    {
     "name": "stdout",
     "output_type": "stream",
     "text": [
      "<class 'tuple'>\n"
     ]
    }
   ],
   "source": [
    "print(type(t))"
   ]
  },
  {
   "cell_type": "markdown",
   "id": "8862072f",
   "metadata": {},
   "source": [
    "### set"
   ]
  },
  {
   "cell_type": "code",
   "execution_count": 1,
   "id": "c3385598",
   "metadata": {},
   "outputs": [
    {
     "data": {
      "text/plain": [
       "['__and__',\n",
       " '__class__',\n",
       " '__class_getitem__',\n",
       " '__contains__',\n",
       " '__delattr__',\n",
       " '__dir__',\n",
       " '__doc__',\n",
       " '__eq__',\n",
       " '__format__',\n",
       " '__ge__',\n",
       " '__getattribute__',\n",
       " '__gt__',\n",
       " '__hash__',\n",
       " '__iand__',\n",
       " '__init__',\n",
       " '__init_subclass__',\n",
       " '__ior__',\n",
       " '__isub__',\n",
       " '__iter__',\n",
       " '__ixor__',\n",
       " '__le__',\n",
       " '__len__',\n",
       " '__lt__',\n",
       " '__ne__',\n",
       " '__new__',\n",
       " '__or__',\n",
       " '__rand__',\n",
       " '__reduce__',\n",
       " '__reduce_ex__',\n",
       " '__repr__',\n",
       " '__ror__',\n",
       " '__rsub__',\n",
       " '__rxor__',\n",
       " '__setattr__',\n",
       " '__sizeof__',\n",
       " '__str__',\n",
       " '__sub__',\n",
       " '__subclasshook__',\n",
       " '__xor__',\n",
       " 'add',\n",
       " 'clear',\n",
       " 'copy',\n",
       " 'difference',\n",
       " 'difference_update',\n",
       " 'discard',\n",
       " 'intersection',\n",
       " 'intersection_update',\n",
       " 'isdisjoint',\n",
       " 'issubset',\n",
       " 'issuperset',\n",
       " 'pop',\n",
       " 'remove',\n",
       " 'symmetric_difference',\n",
       " 'symmetric_difference_update',\n",
       " 'union',\n",
       " 'update']"
      ]
     },
     "execution_count": 1,
     "metadata": {},
     "output_type": "execute_result"
    }
   ],
   "source": [
    "dir(set)"
   ]
  },
  {
   "cell_type": "code",
   "execution_count": 17,
   "id": "f8f8b5fc",
   "metadata": {},
   "outputs": [
    {
     "name": "stdout",
     "output_type": "stream",
     "text": [
      "{'fox', 'dragon', 'dog', 'cat', 'lion'}\n"
     ]
    }
   ],
   "source": [
    "s={'fox','cat','dog','lion','dragon'}  \n",
    "print(s)  "
   ]
  },
  {
   "cell_type": "code",
   "execution_count": 18,
   "id": "e3da232a",
   "metadata": {},
   "outputs": [],
   "source": [
    "s.add('cheetah')"
   ]
  },
  {
   "cell_type": "code",
   "execution_count": 19,
   "id": "110e348a",
   "metadata": {},
   "outputs": [
    {
     "name": "stdout",
     "output_type": "stream",
     "text": [
      "{'cheetah', 'fox', 'dragon', 'dog', 'cat', 'lion'}\n"
     ]
    }
   ],
   "source": [
    "print(s)"
   ]
  },
  {
   "cell_type": "code",
   "execution_count": 20,
   "id": "cce41597",
   "metadata": {},
   "outputs": [
    {
     "name": "stdout",
     "output_type": "stream",
     "text": [
      "{4, 5, 'cheetah', 'dog', 21, 'fox', 'dragon', 'lion', 'cat', 63}\n"
     ]
    }
   ],
   "source": [
    "s.update({4,5,21,63,})\n",
    "print(s)"
   ]
  },
  {
   "cell_type": "code",
   "execution_count": null,
   "id": "549d1d3f",
   "metadata": {},
   "outputs": [],
   "source": [
    "#deletion  \n",
    "# clear()- to clear the all data  \n",
    "# remove()- it is used to remove a particular value  \n",
    "# discard()- it is also used to discard avalue  \n",
    "# pop()- to delete random elements  \n"
   ]
  },
  {
   "cell_type": "code",
   "execution_count": 21,
   "id": "3ecf412a",
   "metadata": {},
   "outputs": [],
   "source": [
    "s.remove('cat')  "
   ]
  },
  {
   "cell_type": "code",
   "execution_count": 23,
   "id": "04988a68",
   "metadata": {},
   "outputs": [
    {
     "name": "stdout",
     "output_type": "stream",
     "text": [
      "{4, 5, 'cheetah', 'dog', 21, 'fox', 'dragon', 'lion', 63}\n"
     ]
    }
   ],
   "source": [
    "print(s)    "
   ]
  },
  {
   "cell_type": "code",
   "execution_count": 24,
   "id": "39cd25c1",
   "metadata": {},
   "outputs": [],
   "source": [
    "s.discard('lion')  "
   ]
  },
  {
   "cell_type": "code",
   "execution_count": 25,
   "id": "7afbdf8f",
   "metadata": {},
   "outputs": [
    {
     "name": "stdout",
     "output_type": "stream",
     "text": [
      "{4, 5, 'cheetah', 'dog', 21, 'fox', 'dragon', 63}\n"
     ]
    }
   ],
   "source": [
    "print(s)  "
   ]
  },
  {
   "cell_type": "code",
   "execution_count": 27,
   "id": "80519249",
   "metadata": {},
   "outputs": [
    {
     "data": {
      "text/plain": [
       "4"
      ]
     },
     "execution_count": 27,
     "metadata": {},
     "output_type": "execute_result"
    }
   ],
   "source": [
    "s.pop()"
   ]
  },
  {
   "cell_type": "code",
   "execution_count": 28,
   "id": "9fa2acf2",
   "metadata": {},
   "outputs": [
    {
     "name": "stdout",
     "output_type": "stream",
     "text": [
      "{5, 'cheetah', 'dog', 21, 'fox', 'dragon', 63}\n"
     ]
    }
   ],
   "source": [
    "print(s)"
   ]
  },
  {
   "cell_type": "markdown",
   "id": "d83f6ed5",
   "metadata": {},
   "source": [
    "### set operations   \n",
    "- union:combination all elements from two sets  \n",
    "- intersection:common elements from two sets  \n",
    "- difference:all the remaining elements from a set after removing common  elements  \n",
    "- symmetric-difference: uncommon elements from both sides"
   ]
  },
  {
   "cell_type": "code",
   "execution_count": 30,
   "id": "ceb3f3c8",
   "metadata": {},
   "outputs": [
    {
     "data": {
      "text/plain": [
       "{2, 3, 4, 5, 6, 7, 8, 9}"
      ]
     },
     "execution_count": 30,
     "metadata": {},
     "output_type": "execute_result"
    }
   ],
   "source": [
    "a={2,5,7,9,7,8}  \n",
    "b={4,6,8,5,3}  \n",
    "a.union(b) "
   ]
  },
  {
   "cell_type": "code",
   "execution_count": 31,
   "id": "f30da53f",
   "metadata": {},
   "outputs": [
    {
     "name": "stdout",
     "output_type": "stream",
     "text": [
      "{2, 5, 7, 8, 9}\n",
      "{3, 4, 5, 6, 8}\n"
     ]
    }
   ],
   "source": [
    "print(a)  \n",
    "print(b)  \n"
   ]
  },
  {
   "cell_type": "code",
   "execution_count": 34,
   "id": "41e6531c",
   "metadata": {},
   "outputs": [
    {
     "name": "stdout",
     "output_type": "stream",
     "text": [
      "{8, 5}\n"
     ]
    }
   ],
   "source": [
    "print(a.intersection(b))"
   ]
  },
  {
   "cell_type": "code",
   "execution_count": 35,
   "id": "a5c9fd4e",
   "metadata": {},
   "outputs": [
    {
     "name": "stdout",
     "output_type": "stream",
     "text": [
      "{9, 2, 7}\n"
     ]
    }
   ],
   "source": [
    "print(a.difference(b))"
   ]
  },
  {
   "cell_type": "code",
   "execution_count": 36,
   "id": "5c039d47",
   "metadata": {},
   "outputs": [
    {
     "name": "stdout",
     "output_type": "stream",
     "text": [
      "{3, 4, 6}\n"
     ]
    }
   ],
   "source": [
    "print(b.difference(a))  "
   ]
  },
  {
   "cell_type": "code",
   "execution_count": 37,
   "id": "ef69582c",
   "metadata": {},
   "outputs": [
    {
     "name": "stdout",
     "output_type": "stream",
     "text": [
      "{2, 3, 4, 6, 7, 9}\n"
     ]
    }
   ],
   "source": [
    "print(a.symmetric_difference(b))  "
   ]
  },
  {
   "cell_type": "code",
   "execution_count": 38,
   "id": "e552abd6",
   "metadata": {},
   "outputs": [
    {
     "name": "stdout",
     "output_type": "stream",
     "text": [
      "{8, 2, 4, 6}\n"
     ]
    }
   ],
   "source": [
    "a={2,4,6,8}  \n",
    "a1=a.copy()  \n",
    "print(a)"
   ]
  },
  {
   "cell_type": "code",
   "execution_count": 41,
   "id": "f2fad94d",
   "metadata": {},
   "outputs": [
    {
     "name": "stdout",
     "output_type": "stream",
     "text": [
      "True\n",
      "True\n"
     ]
    }
   ],
   "source": [
    "m={1,2,3,4,5,6}  \n",
    "n={3,6}  \n",
    "print(n.issubset(m))  \n",
    "print(m.issuperset(n))  "
   ]
  },
  {
   "cell_type": "code",
   "execution_count": 42,
   "id": "a1fc40ad",
   "metadata": {},
   "outputs": [
    {
     "data": {
      "text/plain": [
       "True"
      ]
     },
     "execution_count": 42,
     "metadata": {},
     "output_type": "execute_result"
    }
   ],
   "source": [
    "l={4,5,6,7}  \n",
    "p={1,2,3}  \n",
    "l.isdisjoint(p)  "
   ]
  },
  {
   "cell_type": "code",
   "execution_count": 44,
   "id": "d9ec1891",
   "metadata": {},
   "outputs": [
    {
     "name": "stdout",
     "output_type": "stream",
     "text": [
      "None\n"
     ]
    }
   ],
   "source": [
    "a={10,20,30,40}  \n",
    "b={40,50,60,70}  \n",
    "print(a.difference_update(b))  "
   ]
  },
  {
   "cell_type": "markdown",
   "id": "219b3d64",
   "metadata": {},
   "source": [
    "### DICTIONARY  \n",
    "- dictionary is an unordered collection of items  \n",
    "- each item of a dictionary has a key and value pair:::{key:value}\n",
    "- dictionary is mutable and changable  \n",
    "- in python dictionary writtten {}  \n",
    "- keys are not allow duplicate values   \n",
    "- values are allowed to duplicate values  \n",
    "- entire dictionary depending upon key   \n",
    "   - keys are unique inn nature  \n",
    "   - keys can be written in any  data type  \n",
    "- values maybe similar to values, mentioned as any datatype  \n",
    "- key and value together called as a item  \n",
    "- in dictionary indexing is not supported"
   ]
  },
  {
   "cell_type": "code",
   "execution_count": 45,
   "id": "f0a52147",
   "metadata": {},
   "outputs": [
    {
     "name": "stdout",
     "output_type": "stream",
     "text": [
      "<class 'dict'>\n"
     ]
    }
   ],
   "source": [
    "d={}  \n",
    "print(type(d))"
   ]
  },
  {
   "cell_type": "code",
   "execution_count": 47,
   "id": "a90ac9b2",
   "metadata": {},
   "outputs": [
    {
     "data": {
      "text/plain": [
       "{34: 56, 45: 56, 78: 89, 9: 45}"
      ]
     },
     "execution_count": 47,
     "metadata": {},
     "output_type": "execute_result"
    }
   ],
   "source": [
    "d={34:56,45:56,78:89,9:45}# key cant mention duplicate values  \n",
    "d"
   ]
  },
  {
   "cell_type": "code",
   "execution_count": 48,
   "id": "be28e33a",
   "metadata": {},
   "outputs": [
    {
     "name": "stdout",
     "output_type": "stream",
     "text": [
      "166\n",
      "4\n",
      "78\n",
      "9\n",
      "[9, 34, 45, 78]\n"
     ]
    }
   ],
   "source": [
    "print(sum(d)) \n",
    "print(len(d))  \n",
    "print(max(d))  \n",
    "print(min(d))  \n",
    "print(sorted(d))"
   ]
  },
  {
   "cell_type": "code",
   "execution_count": 49,
   "id": "2ea0070c",
   "metadata": {},
   "outputs": [
    {
     "data": {
      "text/plain": [
       "89"
      ]
     },
     "execution_count": 49,
     "metadata": {},
     "output_type": "execute_result"
    }
   ],
   "source": [
    "d[78]"
   ]
  },
  {
   "cell_type": "code",
   "execution_count": 54,
   "id": "c1c21387",
   "metadata": {},
   "outputs": [
    {
     "data": {
      "text/plain": [
       "['__class__',\n",
       " '__class_getitem__',\n",
       " '__contains__',\n",
       " '__delattr__',\n",
       " '__delitem__',\n",
       " '__dir__',\n",
       " '__doc__',\n",
       " '__eq__',\n",
       " '__format__',\n",
       " '__ge__',\n",
       " '__getattribute__',\n",
       " '__getitem__',\n",
       " '__gt__',\n",
       " '__hash__',\n",
       " '__init__',\n",
       " '__init_subclass__',\n",
       " '__ior__',\n",
       " '__iter__',\n",
       " '__le__',\n",
       " '__len__',\n",
       " '__lt__',\n",
       " '__ne__',\n",
       " '__new__',\n",
       " '__or__',\n",
       " '__reduce__',\n",
       " '__reduce_ex__',\n",
       " '__repr__',\n",
       " '__reversed__',\n",
       " '__ror__',\n",
       " '__setattr__',\n",
       " '__setitem__',\n",
       " '__sizeof__',\n",
       " '__str__',\n",
       " '__subclasshook__',\n",
       " 'clear',\n",
       " 'copy',\n",
       " 'fromkeys',\n",
       " 'get',\n",
       " 'items',\n",
       " 'keys',\n",
       " 'pop',\n",
       " 'popitem',\n",
       " 'setdefault',\n",
       " 'update',\n",
       " 'values']"
      ]
     },
     "execution_count": 54,
     "metadata": {},
     "output_type": "execute_result"
    }
   ],
   "source": [
    "dir(dict)  "
   ]
  },
  {
   "cell_type": "code",
   "execution_count": 55,
   "id": "ddaa5cdd",
   "metadata": {},
   "outputs": [
    {
     "name": "stdout",
     "output_type": "stream",
     "text": [
      "56\n",
      "dict_keys([34, 45, 78, 9])\n",
      "dict_values([56, 56, 89, 45])\n"
     ]
    }
   ],
   "source": [
    "print(d.get(34))  \n",
    "print(d.keys())  \n",
    "print(d.values())   "
   ]
  },
  {
   "cell_type": "code",
   "execution_count": 59,
   "id": "94d96e78",
   "metadata": {},
   "outputs": [
    {
     "data": {
      "text/plain": [
       "{34: 56, 45: 56, 78: 89, 9: 45, 'python': 'workshop'}"
      ]
     },
     "execution_count": 59,
     "metadata": {},
     "output_type": "execute_result"
    }
   ],
   "source": [
    "d['python']=\"workshop\"   \n",
    "d  "
   ]
  },
  {
   "cell_type": "code",
   "execution_count": 61,
   "id": "5fbbfa3c",
   "metadata": {},
   "outputs": [
    {
     "data": {
      "text/plain": [
       "56"
      ]
     },
     "execution_count": 61,
     "metadata": {},
     "output_type": "execute_result"
    }
   ],
   "source": [
    "d.pop(34)  "
   ]
  },
  {
   "cell_type": "code",
   "execution_count": 62,
   "id": "16769b5f",
   "metadata": {},
   "outputs": [
    {
     "data": {
      "text/plain": [
       "{45: 56, 78: 89, 9: 45, 'python': 'workshop'}"
      ]
     },
     "execution_count": 62,
     "metadata": {},
     "output_type": "execute_result"
    }
   ],
   "source": [
    "d"
   ]
  },
  {
   "cell_type": "code",
   "execution_count": 63,
   "id": "5da05574",
   "metadata": {},
   "outputs": [
    {
     "data": {
      "text/plain": [
       "('python', 'workshop')"
      ]
     },
     "execution_count": 63,
     "metadata": {},
     "output_type": "execute_result"
    }
   ],
   "source": [
    "d.popitem()  "
   ]
  },
  {
   "cell_type": "code",
   "execution_count": 64,
   "id": "99c15e1c",
   "metadata": {},
   "outputs": [
    {
     "data": {
      "text/plain": [
       "{45: 56, 78: 89, 9: 45}"
      ]
     },
     "execution_count": 64,
     "metadata": {},
     "output_type": "execute_result"
    }
   ],
   "source": [
    "d"
   ]
  },
  {
   "cell_type": "code",
   "execution_count": 65,
   "id": "a6f995c3",
   "metadata": {},
   "outputs": [
    {
     "data": {
      "text/plain": [
       "dict_items([(45, 56), (78, 89), (9, 45)])"
      ]
     },
     "execution_count": 65,
     "metadata": {},
     "output_type": "execute_result"
    }
   ],
   "source": [
    "d.items()"
   ]
  },
  {
   "cell_type": "code",
   "execution_count": 66,
   "id": "b476a840",
   "metadata": {},
   "outputs": [
    {
     "name": "stdout",
     "output_type": "stream",
     "text": [
      "{45: 56, 78: 89, 9: 45}\n",
      "{45: 56, 78: 89, 9: 45}\n"
     ]
    }
   ],
   "source": [
    "d1=d.copy()\n",
    "print(d1)  \n",
    "print(d)  "
   ]
  },
  {
   "cell_type": "code",
   "execution_count": 68,
   "id": "98906afd",
   "metadata": {},
   "outputs": [
    {
     "data": {
      "text/plain": [
       "{'w': None, 'o': None, 'r': None, 'k': None}"
      ]
     },
     "execution_count": 68,
     "metadata": {},
     "output_type": "execute_result"
    }
   ],
   "source": [
    "d1.fromkeys(\"work\")  "
   ]
  },
  {
   "cell_type": "code",
   "execution_count": 69,
   "id": "8e4b0dd0",
   "metadata": {},
   "outputs": [
    {
     "data": {
      "text/plain": [
       "{'p': 45, 'y': 45, 't': 45, 'h': 45}"
      ]
     },
     "execution_count": 69,
     "metadata": {},
     "output_type": "execute_result"
    }
   ],
   "source": [
    "d1.fromkeys('pyth',45)"
   ]
  },
  {
   "cell_type": "code",
   "execution_count": 71,
   "id": "a21b3170",
   "metadata": {},
   "outputs": [
    {
     "name": "stdout",
     "output_type": "stream",
     "text": [
      "{45: 56, 78: 89, 9: 45, 'mani': 'kedar'}\n"
     ]
    }
   ],
   "source": [
    "d.update({'mani':'kedar'})  \n",
    "print(d)"
   ]
  },
  {
   "cell_type": "markdown",
   "id": "514c0021",
   "metadata": {},
   "source": [
    "### modules and packages  \n",
    "- module:module is nothing but .py file or no of files contains functions  \n",
    "  - module is a single or multiple files that can be reuse your code  \n",
    "- package:collection of modules  \n",
    "  - package is a directory of such modules  \n",
    "  - it possible to put several modules iun to a package  \n",
    "- modules are two types:  \n",
    "  - built in module ex:math functions  \n",
    "  - user defined modules   \n"
   ]
  },
  {
   "cell_type": "code",
   "execution_count": 1,
   "id": "ba1dba7f",
   "metadata": {},
   "outputs": [],
   "source": [
    "import math   "
   ]
  },
  {
   "cell_type": "code",
   "execution_count": 3,
   "id": "468b81db",
   "metadata": {},
   "outputs": [
    {
     "name": "stdout",
     "output_type": "stream",
     "text": [
      "['__doc__', '__loader__', '__name__', '__package__', '__spec__', 'acos', 'acosh', 'asin', 'asinh', 'atan', 'atan2', 'atanh', 'ceil', 'comb', 'copysign', 'cos', 'cosh', 'degrees', 'dist', 'e', 'erf', 'erfc', 'exp', 'expm1', 'fabs', 'factorial', 'floor', 'fmod', 'frexp', 'fsum', 'gamma', 'gcd', 'hypot', 'inf', 'isclose', 'isfinite', 'isinf', 'isnan', 'isqrt', 'lcm', 'ldexp', 'lgamma', 'log', 'log10', 'log1p', 'log2', 'modf', 'nan', 'nextafter', 'perm', 'pi', 'pow', 'prod', 'radians', 'remainder', 'sin', 'sinh', 'sqrt', 'tan', 'tanh', 'tau', 'trunc', 'ulp'] "
     ]
    }
   ],
   "source": [
    "print(dir(math),end=\" \")"
   ]
  },
  {
   "cell_type": "code",
   "execution_count": 4,
   "id": "81e95db8",
   "metadata": {},
   "outputs": [],
   "source": [
    "from math import factorial,pi,remainder"
   ]
  },
  {
   "cell_type": "code",
   "execution_count": 6,
   "id": "0a7fdf86",
   "metadata": {},
   "outputs": [
    {
     "name": "stdout",
     "output_type": "stream",
     "text": [
      "3628800\n"
     ]
    }
   ],
   "source": [
    "print(factorial(10)) "
   ]
  },
  {
   "cell_type": "code",
   "execution_count": 10,
   "id": "29c37416",
   "metadata": {},
   "outputs": [
    {
     "name": "stdout",
     "output_type": "stream",
     "text": [
      "3.141592653589793\n"
     ]
    }
   ],
   "source": [
    "print(pi)"
   ]
  },
  {
   "cell_type": "code",
   "execution_count": 11,
   "id": "c4876079",
   "metadata": {},
   "outputs": [
    {
     "name": "stdout",
     "output_type": "stream",
     "text": [
      "2.0\n"
     ]
    }
   ],
   "source": [
    "print(remainder(20,6))  "
   ]
  },
  {
   "cell_type": "code",
   "execution_count": 12,
   "id": "7679c106",
   "metadata": {},
   "outputs": [],
   "source": [
    "from math import *"
   ]
  },
  {
   "cell_type": "code",
   "execution_count": 14,
   "id": "03845efe",
   "metadata": {},
   "outputs": [
    {
     "name": "stdout",
     "output_type": "stream",
     "text": [
      "23\n"
     ]
    }
   ],
   "source": [
    "print(floor(23.6))"
   ]
  },
  {
   "cell_type": "code",
   "execution_count": 15,
   "id": "f715587c",
   "metadata": {},
   "outputs": [
    {
     "name": "stdout",
     "output_type": "stream",
     "text": [
      "29\n"
     ]
    }
   ],
   "source": [
    "print(ceil(28.3))     "
   ]
  },
  {
   "cell_type": "code",
   "execution_count": 16,
   "id": "fc42ffc8",
   "metadata": {},
   "outputs": [
    {
     "name": "stdout",
     "output_type": "stream",
     "text": [
      "2.6457513110645907\n"
     ]
    }
   ],
   "source": [
    "print(sqrt(7))  "
   ]
  },
  {
   "cell_type": "code",
   "execution_count": 18,
   "id": "11f8867d",
   "metadata": {},
   "outputs": [
    {
     "name": "stdout",
     "output_type": "stream",
     "text": [
      "0.5403023058681397\n"
     ]
    }
   ],
   "source": [
    "print(cos(1))"
   ]
  },
  {
   "cell_type": "code",
   "execution_count": 19,
   "id": "10dd0739",
   "metadata": {},
   "outputs": [
    {
     "name": "stdout",
     "output_type": "stream",
     "text": [
      "0.9092974268256817\n"
     ]
    }
   ],
   "source": [
    "print(sin(2))"
   ]
  },
  {
   "cell_type": "code",
   "execution_count": 20,
   "id": "cbcd7263",
   "metadata": {},
   "outputs": [
    {
     "name": "stdout",
     "output_type": "stream",
     "text": [
      "5\n"
     ]
    }
   ],
   "source": [
    "print(gcd(25,5))  "
   ]
  },
  {
   "cell_type": "code",
   "execution_count": 21,
   "id": "15637d67",
   "metadata": {},
   "outputs": [
    {
     "name": "stdout",
     "output_type": "stream",
     "text": [
      "['BPF', 'LOG4', 'NV_MAGICCONST', 'RECIP_BPF', 'Random', 'SG_MAGICCONST', 'SystemRandom', 'TWOPI', '_Sequence', '_Set', '__all__', '__builtins__', '__cached__', '__doc__', '__file__', '__loader__', '__name__', '__package__', '__spec__', '_accumulate', '_acos', '_bisect', '_ceil', '_cos', '_e', '_exp', '_floor', '_inst', '_log', '_os', '_pi', '_random', '_repeat', '_sha512', '_sin', '_sqrt', '_test', '_test_generator', '_urandom', '_warn', 'betavariate', 'choice', 'choices', 'expovariate', 'gammavariate', 'gauss', 'getrandbits', 'getstate', 'lognormvariate', 'normalvariate', 'paretovariate', 'randbytes', 'randint', 'random', 'randrange', 'sample', 'seed', 'setstate', 'shuffle', 'triangular', 'uniform', 'vonmisesvariate', 'weibullvariate']\n"
     ]
    }
   ],
   "source": [
    "import random\n",
    "print(dir(random))"
   ]
  },
  {
   "cell_type": "code",
   "execution_count": 22,
   "id": "74da7270",
   "metadata": {},
   "outputs": [],
   "source": [
    "from random import *"
   ]
  },
  {
   "cell_type": "code",
   "execution_count": 23,
   "id": "e14d6969",
   "metadata": {},
   "outputs": [
    {
     "name": "stdout",
     "output_type": "stream",
     "text": [
      "234\n"
     ]
    }
   ],
   "source": [
    "print(randint(111,999))"
   ]
  },
  {
   "cell_type": "code",
   "execution_count": 25,
   "id": "8b40f0e3",
   "metadata": {},
   "outputs": [
    {
     "name": "stdout",
     "output_type": "stream",
     "text": [
      "0.6089368811561534\n"
     ]
    }
   ],
   "source": [
    "print(random())  "
   ]
  },
  {
   "cell_type": "code",
   "execution_count": 26,
   "id": "5ee0ca00",
   "metadata": {},
   "outputs": [
    {
     "data": {
      "text/plain": [
       "51"
      ]
     },
     "execution_count": 26,
     "metadata": {},
     "output_type": "execute_result"
    }
   ],
   "source": [
    "import random  \n",
    "random.randrange(0,100)  "
   ]
  },
  {
   "cell_type": "code",
   "execution_count": 33,
   "id": "3a24db02",
   "metadata": {},
   "outputs": [
    {
     "name": "stdout",
     "output_type": "stream",
     "text": [
      "                                  2020\n",
      "\n",
      "      January                   February                   March\n",
      "Mo Tu We Th Fr Sa Su      Mo Tu We Th Fr Sa Su      Mo Tu We Th Fr Sa Su\n",
      "       1  2  3  4  5                      1  2                         1\n",
      " 6  7  8  9 10 11 12       3  4  5  6  7  8  9       2  3  4  5  6  7  8\n",
      "13 14 15 16 17 18 19      10 11 12 13 14 15 16       9 10 11 12 13 14 15\n",
      "20 21 22 23 24 25 26      17 18 19 20 21 22 23      16 17 18 19 20 21 22\n",
      "27 28 29 30 31            24 25 26 27 28 29         23 24 25 26 27 28 29\n",
      "                                                    30 31\n",
      "\n",
      "       April                      May                       June\n",
      "Mo Tu We Th Fr Sa Su      Mo Tu We Th Fr Sa Su      Mo Tu We Th Fr Sa Su\n",
      "       1  2  3  4  5                   1  2  3       1  2  3  4  5  6  7\n",
      " 6  7  8  9 10 11 12       4  5  6  7  8  9 10       8  9 10 11 12 13 14\n",
      "13 14 15 16 17 18 19      11 12 13 14 15 16 17      15 16 17 18 19 20 21\n",
      "20 21 22 23 24 25 26      18 19 20 21 22 23 24      22 23 24 25 26 27 28\n",
      "27 28 29 30               25 26 27 28 29 30 31      29 30\n",
      "\n",
      "        July                     August                  September\n",
      "Mo Tu We Th Fr Sa Su      Mo Tu We Th Fr Sa Su      Mo Tu We Th Fr Sa Su\n",
      "       1  2  3  4  5                      1  2          1  2  3  4  5  6\n",
      " 6  7  8  9 10 11 12       3  4  5  6  7  8  9       7  8  9 10 11 12 13\n",
      "13 14 15 16 17 18 19      10 11 12 13 14 15 16      14 15 16 17 18 19 20\n",
      "20 21 22 23 24 25 26      17 18 19 20 21 22 23      21 22 23 24 25 26 27\n",
      "27 28 29 30 31            24 25 26 27 28 29 30      28 29 30\n",
      "                          31\n",
      "\n",
      "      October                   November                  December\n",
      "Mo Tu We Th Fr Sa Su      Mo Tu We Th Fr Sa Su      Mo Tu We Th Fr Sa Su\n",
      "          1  2  3  4                         1          1  2  3  4  5  6\n",
      " 5  6  7  8  9 10 11       2  3  4  5  6  7  8       7  8  9 10 11 12 13\n",
      "12 13 14 15 16 17 18       9 10 11 12 13 14 15      14 15 16 17 18 19 20\n",
      "19 20 21 22 23 24 25      16 17 18 19 20 21 22      21 22 23 24 25 26 27\n",
      "26 27 28 29 30 31         23 24 25 26 27 28 29      28 29 30 31\n",
      "                          30\n",
      "\n"
     ]
    }
   ],
   "source": [
    "import calendar  \n",
    "print(calendar.calendar(2020))"
   ]
  },
  {
   "cell_type": "code",
   "execution_count": 8,
   "id": "e17b3fd5",
   "metadata": {},
   "outputs": [],
   "source": [
    "import calc"
   ]
  },
  {
   "cell_type": "code",
   "execution_count": 9,
   "id": "340a47d7",
   "metadata": {},
   "outputs": [
    {
     "data": {
      "text/plain": [
       "['__builtins__',\n",
       " '__cached__',\n",
       " '__doc__',\n",
       " '__file__',\n",
       " '__loader__',\n",
       " '__name__',\n",
       " '__package__',\n",
       " '__spec__',\n",
       " 'add',\n",
       " 'div',\n",
       " 'mul',\n",
       " 'sub']"
      ]
     },
     "execution_count": 9,
     "metadata": {},
     "output_type": "execute_result"
    }
   ],
   "source": [
    "dir(calc)\n"
   ]
  },
  {
   "cell_type": "code",
   "execution_count": 10,
   "id": "d96c27b0",
   "metadata": {},
   "outputs": [
    {
     "data": {
      "text/plain": [
       "14"
      ]
     },
     "execution_count": 10,
     "metadata": {},
     "output_type": "execute_result"
    }
   ],
   "source": [
    "calc.add(8,6)"
   ]
  },
  {
   "cell_type": "code",
   "execution_count": 11,
   "id": "87680dec",
   "metadata": {},
   "outputs": [
    {
     "data": {
      "text/plain": [
       "-1"
      ]
     },
     "execution_count": 11,
     "metadata": {},
     "output_type": "execute_result"
    }
   ],
   "source": [
    "calc.sub(3,4)"
   ]
  },
  {
   "cell_type": "code",
   "execution_count": 12,
   "id": "f52fa140",
   "metadata": {},
   "outputs": [
    {
     "data": {
      "text/plain": [
       "3.0"
      ]
     },
     "execution_count": 12,
     "metadata": {},
     "output_type": "execute_result"
    }
   ],
   "source": [
    "calc.div(24,8)"
   ]
  },
  {
   "cell_type": "code",
   "execution_count": 13,
   "id": "383e6729",
   "metadata": {},
   "outputs": [
    {
     "data": {
      "text/plain": [
       "32"
      ]
     },
     "execution_count": 13,
     "metadata": {},
     "output_type": "execute_result"
    }
   ],
   "source": [
    "calc.mul(4,8)"
   ]
  },
  {
   "cell_type": "code",
   "execution_count": 14,
   "id": "67e122eb",
   "metadata": {},
   "outputs": [],
   "source": [
    "from calc import add as a"
   ]
  },
  {
   "cell_type": "code",
   "execution_count": 16,
   "id": "6b7ea224",
   "metadata": {},
   "outputs": [],
   "source": [
    "import evodd"
   ]
  },
  {
   "cell_type": "code",
   "execution_count": 17,
   "id": "8f30d6a0",
   "metadata": {},
   "outputs": [
    {
     "name": "stdout",
     "output_type": "stream",
     "text": [
      "even\n"
     ]
    }
   ],
   "source": [
    "evodd.num(4)"
   ]
  },
  {
   "cell_type": "markdown",
   "id": "c097a0d9",
   "metadata": {},
   "source": [
    "### regular expressions  \n",
    "- a regular expression is a sequence of a characters that defines a such patterns \n",
    "   - that defines a search patterns\n",
    "- we have to builtin module in python work to with regular expressions:represented re  \n",
    "- we have to import that module in to our python file by using re syntax::re.regex function('pattern'.'input\n",
    "- 3 methods  \n",
    "   - 1.find all()  \n",
    "    - it returns a list containing  all matches(or)this module is used to search for all occurence that match a given(find all the  duplicates for a specified pattern)\n",
    "   - 2.search()\n",
    "    - to test the specified pattern is present or not in the given string\n",
    "   - 3.match()\n",
    "    - the text the i/p string starts with specified pattern or not"
   ]
  },
  {
   "cell_type": "code",
   "execution_count": 1,
   "id": "53a69adb",
   "metadata": {},
   "outputs": [
    {
     "name": "stdout",
     "output_type": "stream",
     "text": [
      "['in', 'in']\n"
     ]
    }
   ],
   "source": [
    "import re\n",
    "n='the rain in jango'  \n",
    "z=re.findall('in',n)\n",
    "print(z)"
   ]
  },
  {
   "cell_type": "code",
   "execution_count": 2,
   "id": "c1af56ac",
   "metadata": {},
   "outputs": [
    {
     "data": {
      "text/plain": [
       "<re.Match object; span=(0, 1), match='p'>"
      ]
     },
     "execution_count": 2,
     "metadata": {},
     "output_type": "execute_result"
    }
   ],
   "source": [
    "# search  \n",
    "re.search('p','pythonworkshop')"
   ]
  },
  {
   "cell_type": "code",
   "execution_count": 3,
   "id": "2538d262",
   "metadata": {},
   "outputs": [
    {
     "data": {
      "text/plain": [
       "['p', 'p']"
      ]
     },
     "execution_count": 3,
     "metadata": {},
     "output_type": "execute_result"
    }
   ],
   "source": [
    "re.findall('p','pythonworkshop')"
   ]
  },
  {
   "cell_type": "code",
   "execution_count": 4,
   "id": "6cedc1f3",
   "metadata": {},
   "outputs": [
    {
     "data": {
      "text/plain": [
       "<re.Match object; span=(0, 1), match='p'>"
      ]
     },
     "execution_count": 4,
     "metadata": {},
     "output_type": "execute_result"
    }
   ],
   "source": [
    "re.match('p','python')"
   ]
  },
  {
   "cell_type": "code",
   "execution_count": 5,
   "id": "a211dd8d",
   "metadata": {},
   "outputs": [],
   "source": [
    "re.match('pytr','python')"
   ]
  },
  {
   "cell_type": "code",
   "execution_count": 6,
   "id": "d06fb922",
   "metadata": {},
   "outputs": [],
   "source": [
    "re.match('on','python')"
   ]
  },
  {
   "cell_type": "code",
   "execution_count": 7,
   "id": "61965d36",
   "metadata": {},
   "outputs": [],
   "source": [
    "re.search('z','pythonworkshop')"
   ]
  },
  {
   "cell_type": "code",
   "execution_count": 8,
   "id": "b453cb47",
   "metadata": {},
   "outputs": [],
   "source": [
    "re.match('th','python')"
   ]
  },
  {
   "cell_type": "markdown",
   "id": "7b8b8b03",
   "metadata": {},
   "source": [
    "### mobile validations  \n",
    "- 10 digits  \n",
    "- number starts with indian num +91  \n",
    "- starting num will be 9,7,8,6  \n",
    "### gmail validation  \n",
    "- only small alphabets  \n",
    "- length - user mentioned  \n",
    "- @gmail.com,@yahoo.com,@vasavi.ac.in  "
   ]
  },
  {
   "cell_type": "markdown",
   "id": "2e5cba9c",
   "metadata": {},
   "source": [
    "### pattern::\n",
    "   1.^ - start  \n",
    "   2.     $ - end  \n",
    "   3.     [0-9]-numbers  \n",
    "   4.     [a-z]-small numbers  \n",
    "   5.     [A-Z]-caps alphabets  \n",
    "   6.     [a-zA-Z]-both caps and small characters  \n",
    "   7.     [@] - special characters  \n",
    "   8.     [.] - for mention  \n",
    "   9.     [0-9]{4}- we have to give 4 numbers  \n",
    "   10.    [0-9]{6}- we have to give 6 numbers  \n",
    "   11.     | - for another pattern\n",
    "   \n",
    "                \n",
    "        "
   ]
  },
  {
   "cell_type": "code",
   "execution_count": null,
   "id": "54d97fa1",
   "metadata": {},
   "outputs": [],
   "source": [
    "# 9492567840  \n",
    " \n",
    "# pattern =^[6-9][0-9]{9}$\n",
    "\n",
    "# +91 9876543201  \n",
    "\n",
    "# pattern=^[+][9][1][6-9][0-9]{9}$ "
   ]
  },
  {
   "cell_type": "code",
   "execution_count": 4,
   "id": "0a647205",
   "metadata": {},
   "outputs": [
    {
     "name": "stdout",
     "output_type": "stream",
     "text": [
      "enter phonenumber7780364877\n",
      "valid phone number\n"
     ]
    }
   ],
   "source": [
    "import re\n",
    "phone_no=input(\"enter phonenumber\")  \n",
    "pattern=\"^[6-9][0-9]{9}$|^[+][9][1][6-9][0-9]{9}$\"  \n",
    "if re.match(pattern,phone_no):  \n",
    "    print(\"valid phone number\")  \n",
    "else:  \n",
    "    print(\"invalid phone number\")  "
   ]
  },
  {
   "cell_type": "markdown",
   "id": "01a400d3",
   "metadata": {},
   "source": [
    "# email validation\n",
    "- 1.username@domain   \n",
    "  - username specifications\n",
    "     - a-zA-z-9\n",
    "     - special symbol:[]\n",
    "     - length-6 to 2- characters\n",
    "- 2.domain  \n",
    "  - a-z length- 5 to 10 characters  \n",
    "  - A-z length- 2 to 5---in..org\n",
    "      "
   ]
  },
  {
   "cell_type": "code",
   "execution_count": 10,
   "id": "7072dc63",
   "metadata": {},
   "outputs": [
    {
     "name": "stdout",
     "output_type": "stream",
     "text": [
      "enter emailvasavicol9@gmail.com\n",
      "valid email\n"
     ]
    }
   ],
   "source": [
    "# vasavi99@gmail.com   \n",
    "email=input(\"enter email\")  \n",
    "pattern=\"^[a-z]{9}[9][@][a-z]{5}[.][a-z]{3}$\"  \n",
    "if re.match(pattern,email):  \n",
    "    print(\"valid email\")  \n",
    "else:  \n",
    "    print(\"enter a valid email\")  "
   ]
  },
  {
   "cell_type": "code",
   "execution_count": null,
   "id": "0911cb77",
   "metadata": {},
   "outputs": [],
   "source": []
  }
 ],
 "metadata": {
  "kernelspec": {
   "display_name": "Python 3 (ipykernel)",
   "language": "python",
   "name": "python3"
  },
  "language_info": {
   "codemirror_mode": {
    "name": "ipython",
    "version": 3
   },
   "file_extension": ".py",
   "mimetype": "text/x-python",
   "name": "python",
   "nbconvert_exporter": "python",
   "pygments_lexer": "ipython3",
   "version": "3.9.7"
  }
 },
 "nbformat": 4,
 "nbformat_minor": 5
}
