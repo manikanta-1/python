{
 "cells": [
  {
   "cell_type": "markdown",
   "id": "6ce81f6e",
   "metadata": {},
   "source": [
    "# Header file :\n",
    "- there are different size of size \n",
    "- we can diffentiate them using #,##,###,####,#####,######"
   ]
  },
  {
   "cell_type": "markdown",
   "id": "f9a67004",
   "metadata": {},
   "source": [
    "# welcome  \n",
    "## welcome  \n",
    "### Welcome  \n",
    "#### welcome  \n",
    "##### welcome  \n",
    "###### welcome \n"
   ]
  },
  {
   "cell_type": "markdown",
   "id": "2352d6b9",
   "metadata": {},
   "source": [
    "- we can use double space to print output in new line "
   ]
  },
  {
   "cell_type": "markdown",
   "id": "ccd0e18a",
   "metadata": {},
   "source": [
    "- To print heading with bold and itaalic we use star operator "
   ]
  },
  {
   "cell_type": "markdown",
   "id": "9cde40fa",
   "metadata": {},
   "source": [
    "**Hai**  \n",
    "- doble star used for to print data in bold font  \n"
   ]
  },
  {
   "cell_type": "markdown",
   "id": "97f74777",
   "metadata": {},
   "source": [
    "*Hai*  \n",
    "- single star is used to print data in itallic font   \n",
    "   "
   ]
  },
  {
   "cell_type": "markdown",
   "id": "b2a0cce6",
   "metadata": {},
   "source": [
    "***Hai***    \n",
    "- triple is used to print data in both bold and italic  fonts"
   ]
  },
  {
   "cell_type": "markdown",
   "id": "580be243",
   "metadata": {},
   "source": [
    "# Using python we can print data using bullets and numbers \n"
   ]
  },
  {
   "cell_type": "markdown",
   "id": "1da97d3e",
   "metadata": {},
   "source": [
    "## There are two types :  \n",
    "   ### order list:  \n",
    "        which means we use numbers or alphabets to denote points or lines  \n",
    " ###  unorder list:  \n",
    "        which means we can use dots to denotes points or lines in a paragraph  \n",
    "    "
   ]
  },
  {
   "cell_type": "markdown",
   "id": "508b7d1b",
   "metadata": {},
   "source": [
    "## order list example:  \n",
    " ### 1.alphabets    \n",
    "       1.a  \n",
    "       2.b  \n",
    "       3.c  \n",
    "       4.e  \n",
    "       5.f....  \n",
    "### 2.ovwels   \n",
    "       1.a  \n",
    "       2.e  \n",
    "       3.i  \n",
    "       4.o  \n",
    "       5.u  \n",
    "### 3.constants  \n",
    "       1.b  \n",
    "       2.c  \n",
    "       3.d  \n",
    "       4.t....  \n",
    "          "
   ]
  },
  {
   "cell_type": "markdown",
   "id": "b6b4db1c",
   "metadata": {},
   "source": [
    "## unodered list example:  \n",
    "- hii  \n",
    "* hello  \n",
    "+ welcome  \n"
   ]
  },
  {
   "cell_type": "markdown",
   "id": "479aa5bc",
   "metadata": {},
   "source": [
    "## comments\n",
    "- user readable information or data\n",
    "- comments doesn't excecute\n",
    "- comments it is mentioned in single #\n",
    "- For mutliple comments mention in the between \"\"\" here we can write data\"\"\""
   ]
  },
  {
   "cell_type": "markdown",
   "id": "2594404b",
   "metadata": {},
   "source": [
    "## variables\n",
    "- which is used to store data\n",
    "- variable start with alphabets and underscore(_)\n",
    "- could not start with numbers special characters (%&^!) and keywords"
   ]
  },
  {
   "cell_type": "markdown",
   "id": "9471237b",
   "metadata": {},
   "source": [
    "## variables example:\n"
   ]
  },
  {
   "cell_type": "code",
   "execution_count": 1,
   "id": "de8def3b",
   "metadata": {},
   "outputs": [
    {
     "data": {
      "text/plain": [
       "10"
      ]
     },
     "execution_count": 1,
     "metadata": {},
     "output_type": "execute_result"
    }
   ],
   "source": [
    "a=10\n",
    "a"
   ]
  },
  {
   "cell_type": "code",
   "execution_count": 2,
   "id": "6910813f",
   "metadata": {},
   "outputs": [
    {
     "data": {
      "text/plain": [
       "9.87"
      ]
     },
     "execution_count": 2,
     "metadata": {},
     "output_type": "execute_result"
    }
   ],
   "source": [
    "b=9.87\n",
    "b"
   ]
  },
  {
   "cell_type": "code",
   "execution_count": 3,
   "id": "4dc0c81a",
   "metadata": {},
   "outputs": [
    {
     "ename": "SyntaxError",
     "evalue": "invalid syntax (Temp/ipykernel_13184/20896914.py, line 1)",
     "output_type": "error",
     "traceback": [
      "\u001b[1;36m  File \u001b[1;32m\"C:\\Users\\DELL-E~1\\AppData\\Local\\Temp/ipykernel_13184/20896914.py\"\u001b[1;36m, line \u001b[1;32m1\u001b[0m\n\u001b[1;33m    5a=6\u001b[0m\n\u001b[1;37m     ^\u001b[0m\n\u001b[1;31mSyntaxError\u001b[0m\u001b[1;31m:\u001b[0m invalid syntax\n"
     ]
    }
   ],
   "source": [
    "5a=6\n",
    "5a"
   ]
  },
  {
   "cell_type": "code",
   "execution_count": 4,
   "id": "8fc0f06f",
   "metadata": {},
   "outputs": [
    {
     "ename": "SyntaxError",
     "evalue": "invalid syntax (Temp/ipykernel_13184/3052514472.py, line 1)",
     "output_type": "error",
     "traceback": [
      "\u001b[1;36m  File \u001b[1;32m\"C:\\Users\\DELL-E~1\\AppData\\Local\\Temp/ipykernel_13184/3052514472.py\"\u001b[1;36m, line \u001b[1;32m1\u001b[0m\n\u001b[1;33m    $a='t'\u001b[0m\n\u001b[1;37m    ^\u001b[0m\n\u001b[1;31mSyntaxError\u001b[0m\u001b[1;31m:\u001b[0m invalid syntax\n"
     ]
    }
   ],
   "source": [
    "$a='t'\n",
    "$a"
   ]
  },
  {
   "cell_type": "markdown",
   "id": "183a8fee",
   "metadata": {},
   "source": [
    "## Data types\n",
    "#### int\n",
    "    For all integers values\n",
    "      example: a=9    \n",
    "#### float\n",
    "    For are deciaml values\n",
    "      example: b=9.8\n",
    "#### string\n",
    "    Group of characters\n",
    "      example: c='kedar'\n",
    "#### boolean\n",
    "    true or false\n",
    "      example: d=true\n",
    "#### complex\n",
    "    Number with real and imaganery part\n",
    "      example: f=1+2j"
   ]
  },
  {
   "cell_type": "markdown",
   "id": "e9daa96a",
   "metadata": {},
   "source": [
    "## to check the. type of variable "
   ]
  },
  {
   "cell_type": "code",
   "execution_count": 5,
   "id": "b42e0fe6",
   "metadata": {},
   "outputs": [
    {
     "name": "stdout",
     "output_type": "stream",
     "text": [
      "<class 'int'>\n",
      "<class 'float'>\n",
      "<class 'str'>\n",
      "<class 'bool'>\n",
      "<class 'complex'>\n"
     ]
    }
   ],
   "source": [
    "a=5\n",
    "b=9.8\n",
    "c='kedar'\n",
    "d=True\n",
    "f=1+2j\n",
    "print(type(a))\n",
    "print(type(b))\n",
    "print(type(c))\n",
    "print(type(d))\n",
    "print(type(f))"
   ]
  },
  {
   "cell_type": "markdown",
   "id": "0df666bd",
   "metadata": {},
   "source": [
    "## Type casting\n",
    "    it is used to converts one data type to another data type\n",
    "        syntax :\n",
    "           variable = datatype(variable))"
   ]
  },
  {
   "cell_type": "code",
   "execution_count": 6,
   "id": "3a88f85d",
   "metadata": {},
   "outputs": [
    {
     "name": "stdout",
     "output_type": "stream",
     "text": [
      "<class 'int'>\n"
     ]
    }
   ],
   "source": [
    "a=90\n",
    "print(type(a))"
   ]
  },
  {
   "cell_type": "code",
   "execution_count": 7,
   "id": "e617b3ef",
   "metadata": {},
   "outputs": [
    {
     "name": "stdout",
     "output_type": "stream",
     "text": [
      "<class 'str'>\n"
     ]
    }
   ],
   "source": [
    "b=str(a)\n",
    "print(type(b))"
   ]
  },
  {
   "cell_type": "code",
   "execution_count": 8,
   "id": "5ab86738",
   "metadata": {},
   "outputs": [
    {
     "name": "stdout",
     "output_type": "stream",
     "text": [
      "<class 'complex'>\n",
      "(90+0j)\n"
     ]
    }
   ],
   "source": [
    "b=complex(a)\n",
    "print(type(b))\n",
    "print(b)"
   ]
  },
  {
   "cell_type": "markdown",
   "id": "da16a392",
   "metadata": {},
   "source": [
    "### we can change any type data into another datatype except string which contain group of characters or alphabets example is given below:  \n"
   ]
  },
  {
   "cell_type": "code",
   "execution_count": 9,
   "id": "f02755bf",
   "metadata": {},
   "outputs": [
    {
     "name": "stdout",
     "output_type": "stream",
     "text": [
      "<class 'str'>\n"
     ]
    },
    {
     "ename": "ValueError",
     "evalue": "invalid literal for int() with base 10: 'abcd'",
     "output_type": "error",
     "traceback": [
      "\u001b[1;31m---------------------------------------------------------------------------\u001b[0m",
      "\u001b[1;31mValueError\u001b[0m                                Traceback (most recent call last)",
      "\u001b[1;32mC:\\Users\\DELL-E~1\\AppData\\Local\\Temp/ipykernel_13184/1308697706.py\u001b[0m in \u001b[0;36m<module>\u001b[1;34m\u001b[0m\n\u001b[0;32m      1\u001b[0m \u001b[0ms\u001b[0m\u001b[1;33m=\u001b[0m\u001b[1;34m\"abcd\"\u001b[0m\u001b[1;33m\u001b[0m\u001b[1;33m\u001b[0m\u001b[0m\n\u001b[0;32m      2\u001b[0m \u001b[0mprint\u001b[0m\u001b[1;33m(\u001b[0m\u001b[0mtype\u001b[0m\u001b[1;33m(\u001b[0m\u001b[0ms\u001b[0m\u001b[1;33m)\u001b[0m\u001b[1;33m)\u001b[0m\u001b[1;33m\u001b[0m\u001b[1;33m\u001b[0m\u001b[0m\n\u001b[1;32m----> 3\u001b[1;33m \u001b[0mz\u001b[0m\u001b[1;33m=\u001b[0m\u001b[0mint\u001b[0m\u001b[1;33m(\u001b[0m\u001b[0ms\u001b[0m\u001b[1;33m)\u001b[0m\u001b[1;33m\u001b[0m\u001b[1;33m\u001b[0m\u001b[0m\n\u001b[0m\u001b[0;32m      4\u001b[0m \u001b[0mprint\u001b[0m\u001b[1;33m(\u001b[0m\u001b[0mtype\u001b[0m\u001b[1;33m(\u001b[0m\u001b[0mz\u001b[0m\u001b[1;33m)\u001b[0m\u001b[1;33m)\u001b[0m\u001b[1;33m\u001b[0m\u001b[1;33m\u001b[0m\u001b[0m\n",
      "\u001b[1;31mValueError\u001b[0m: invalid literal for int() with base 10: 'abcd'"
     ]
    }
   ],
   "source": [
    "s=\"abcd\"\n",
    "print(type(s))\n",
    "z=int(s)\n",
    "print(type(z))"
   ]
  },
  {
   "cell_type": "code",
   "execution_count": null,
   "id": "d1bcadec",
   "metadata": {},
   "outputs": [],
   "source": []
  }
 ],
 "metadata": {
  "kernelspec": {
   "display_name": "Python 3 (ipykernel)",
   "language": "python",
   "name": "python3"
  },
  "language_info": {
   "codemirror_mode": {
    "name": "ipython",
    "version": 3
   },
   "file_extension": ".py",
   "mimetype": "text/x-python",
   "name": "python",
   "nbconvert_exporter": "python",
   "pygments_lexer": "ipython3",
   "version": "3.9.7"
  }
 },
 "nbformat": 4,
 "nbformat_minor": 5
}
