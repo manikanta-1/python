{
 "cells": [
  {
   "cell_type": "markdown",
   "id": "16448940",
   "metadata": {},
   "source": [
    "## input and output methods  \n",
    "- reading the data or information from the user---***input()***  \n",
    "  - static input  \n",
    "  - dynamical input  \n",
    "- displaying the information or data to the user-----***print()***   "
   ]
  },
  {
   "cell_type": "code",
   "execution_count": 1,
   "id": "38b053f9",
   "metadata": {},
   "outputs": [
    {
     "name": "stdout",
     "output_type": "stream",
     "text": [
      "20\n",
      "30\n"
     ]
    }
   ],
   "source": [
    "a=20  \n",
    "b=30  \n",
    "print(a)  \n",
    "print(b)  "
   ]
  },
  {
   "cell_type": "code",
   "execution_count": 2,
   "id": "bc6738dd",
   "metadata": {},
   "outputs": [
    {
     "name": "stdout",
     "output_type": "stream",
     "text": [
      "manikanta  \n"
     ]
    },
    {
     "data": {
      "text/plain": [
       "'manikanta  '"
      ]
     },
     "execution_count": 2,
     "metadata": {},
     "output_type": "execute_result"
    }
   ],
   "source": [
    "a=input()  \n",
    "a  "
   ]
  },
  {
   "cell_type": "code",
   "execution_count": 3,
   "id": "7e039c1e",
   "metadata": {},
   "outputs": [
    {
     "name": "stdout",
     "output_type": "stream",
     "text": [
      "345\n"
     ]
    },
    {
     "data": {
      "text/plain": [
       "'345'"
      ]
     },
     "execution_count": 3,
     "metadata": {},
     "output_type": "execute_result"
    }
   ],
   "source": [
    "a=input()  \n",
    "a  "
   ]
  },
  {
   "cell_type": "code",
   "execution_count": 4,
   "id": "16032032",
   "metadata": {
    "scrolled": true
   },
   "outputs": [
    {
     "name": "stdout",
     "output_type": "stream",
     "text": [
      "enter user value687  \n"
     ]
    },
    {
     "data": {
      "text/plain": [
       "'687  '"
      ]
     },
     "execution_count": 4,
     "metadata": {},
     "output_type": "execute_result"
    }
   ],
   "source": [
    "a=input(\"enter user value\")  \n",
    "a  "
   ]
  },
  {
   "cell_type": "code",
   "execution_count": 5,
   "id": "f18a3576",
   "metadata": {},
   "outputs": [
    {
     "name": "stdout",
     "output_type": "stream",
     "text": [
      "enter user value567\n"
     ]
    },
    {
     "data": {
      "text/plain": [
       "'567'"
      ]
     },
     "execution_count": 5,
     "metadata": {},
     "output_type": "execute_result"
    }
   ],
   "source": [
    "a=input(\"enter user value\")  \n",
    "a  "
   ]
  },
  {
   "cell_type": "code",
   "execution_count": 6,
   "id": "9a587a4c",
   "metadata": {},
   "outputs": [
    {
     "name": "stdout",
     "output_type": "stream",
     "text": [
      "enter user value345\n"
     ]
    },
    {
     "data": {
      "text/plain": [
       "345.0"
      ]
     },
     "execution_count": 6,
     "metadata": {},
     "output_type": "execute_result"
    }
   ],
   "source": [
    "a=float(input(\"enter user value\"))  \n",
    "a  "
   ]
  },
  {
   "cell_type": "code",
   "execution_count": 2,
   "id": "8fb7e904",
   "metadata": {},
   "outputs": [
    {
     "name": "stdout",
     "output_type": "stream",
     "text": [
      "enter a value54\n",
      "54\n"
     ]
    }
   ],
   "source": [
    "a=input(\"enter a value\")  \n",
    "print(a)            "
   ]
  },
  {
   "cell_type": "code",
   "execution_count": 3,
   "id": "1a78e2e5",
   "metadata": {},
   "outputs": [
    {
     "name": "stdout",
     "output_type": "stream",
     "text": [
      "20,30,50%"
     ]
    }
   ],
   "source": [
    "a=20  \n",
    "b=30  \n",
    "c=50  \n",
    "print(a,b,c,sep=\",\",end=\"%\")      "
   ]
  },
  {
   "cell_type": "code",
   "execution_count": 6,
   "id": "56632847",
   "metadata": {},
   "outputs": [
    {
     "name": "stdout",
     "output_type": "stream",
     "text": [
      "20,30,50\n",
      "50\n"
     ]
    }
   ],
   "source": [
    "a=20  \n",
    "b=30  \n",
    "c=50  \n",
    "print(a,b,c,sep=\",\")  \n",
    "print(c)  "
   ]
  },
  {
   "cell_type": "markdown",
   "id": "54e99975",
   "metadata": {},
   "source": [
    " generate three values from the user ,that values seperated with $ and end with %  \n",
    " \n",
    " \n",
    " \n",
    " "
   ]
  },
  {
   "cell_type": "code",
   "execution_count": 9,
   "id": "e4194f1a",
   "metadata": {},
   "outputs": [
    {
     "name": "stdout",
     "output_type": "stream",
     "text": [
      "enter x value25\n",
      "enter y value35\n",
      "enter z value45\n",
      "25$35$45%"
     ]
    }
   ],
   "source": [
    "x=input(\"enter x value\")  \n",
    "y=input(\"enter y value\")  \n",
    "z=input(\"enter z value\")  \n",
    "print(x,y,z,sep=\"$\",end=\"%\")    \n",
    "  "
   ]
  },
  {
   "cell_type": "markdown",
   "id": "d516ea29",
   "metadata": {},
   "source": [
    "### operators  \n",
    "- arthimetic operators(+,-,*,**,/,//,%)  \n",
    "    - output for the normal division is quotient  \n",
    "    - output for the int division or floor division is integer part of the quotient  \n",
    "    - output for the modulo division is reminder    \n",
    "- asssignment operators(=)    \n",
    "- comparison operators(<,>,<=,>=,==)      \n",
    "- logical operators(and,or,not)    \n",
    "- bitwise operators(&,|,^)    \n",
    "- identity operators(is(==),isnot(!=)    \n",
    "- membership operators(in,notin)    "
   ]
  },
  {
   "cell_type": "markdown",
   "id": "79bf317c",
   "metadata": {},
   "source": [
    "### arithmatic operators  "
   ]
  },
  {
   "cell_type": "code",
   "execution_count": 10,
   "id": "0a34ab5e",
   "metadata": {},
   "outputs": [
    {
     "name": "stdout",
     "output_type": "stream",
     "text": [
      "addtion 101\n",
      "subraction -33\n",
      "multiplication 2278\n",
      "power 4065251716212557932550840533486793017502084747731049146444657475519303778647807844035539194338024095744\n",
      "division 0.5074626865671642\n",
      "modulo division 34\n",
      "int division or floor division 0\n"
     ]
    }
   ],
   "source": [
    "a=34  \n",
    "b=67  \n",
    "print(\"addtion\",a+b)    \n",
    "print(\"subraction\",a-b)  \n",
    "print(\"multiplication\",a*b)   \n",
    "print(\"power\",a**b)  \n",
    "print(\"division\",a/b)  \n",
    "print(\"modulo division\",a%b)  \n",
    "print(\"int division or floor division\",a//b)  "
   ]
  },
  {
   "cell_type": "markdown",
   "id": "90e54df1",
   "metadata": {},
   "source": [
    "### comparison operators  "
   ]
  },
  {
   "cell_type": "code",
   "execution_count": 11,
   "id": "20ed4c84",
   "metadata": {},
   "outputs": [
    {
     "data": {
      "text/plain": [
       "True"
      ]
     },
     "execution_count": 11,
     "metadata": {},
     "output_type": "execute_result"
    }
   ],
   "source": [
    "34>9  \n",
    "56<99  \n"
   ]
  },
  {
   "cell_type": "code",
   "execution_count": 12,
   "id": "296936d9",
   "metadata": {},
   "outputs": [
    {
     "data": {
      "text/plain": [
       "False"
      ]
     },
     "execution_count": 12,
     "metadata": {},
     "output_type": "execute_result"
    }
   ],
   "source": [
    "57<9  "
   ]
  },
  {
   "cell_type": "code",
   "execution_count": 16,
   "id": "43f9eeda",
   "metadata": {},
   "outputs": [
    {
     "name": "stdout",
     "output_type": "stream",
     "text": [
      "c as big\n"
     ]
    }
   ],
   "source": [
    "a=44  \n",
    "b=66  \n",
    "c=77  \n",
    "if a<b : \n",
    "    print(\"c as big\")  \n",
    "else  :\n",
    "    print(\"a as small\")  "
   ]
  },
  {
   "cell_type": "markdown",
   "id": "770a5a23",
   "metadata": {},
   "source": [
    "### logical operators  \n",
    "- and,or,not  \n",
    "- if all the inputs are true the output is true(and)  \n",
    "- or in input one condition is true then the output will be true  \n",
    "- not if the input true then the output is false  "
   ]
  },
  {
   "cell_type": "code",
   "execution_count": 17,
   "id": "cb341fef",
   "metadata": {},
   "outputs": [
    {
     "data": {
      "text/plain": [
       "True"
      ]
     },
     "execution_count": 17,
     "metadata": {},
     "output_type": "execute_result"
    }
   ],
   "source": [
    "# example for and #  \n",
    "6>4 and 7>6  "
   ]
  },
  {
   "cell_type": "code",
   "execution_count": 18,
   "id": "a978ccc6",
   "metadata": {},
   "outputs": [
    {
     "data": {
      "text/plain": [
       "False"
      ]
     },
     "execution_count": 18,
     "metadata": {},
     "output_type": "execute_result"
    }
   ],
   "source": [
    "# example for or #  \n",
    "4>6 or 7<0  "
   ]
  },
  {
   "cell_type": "code",
   "execution_count": 20,
   "id": "d1f967d1",
   "metadata": {
    "scrolled": true
   },
   "outputs": [
    {
     "data": {
      "text/plain": [
       "False"
      ]
     },
     "execution_count": 20,
     "metadata": {},
     "output_type": "execute_result"
    }
   ],
   "source": [
    "# example for not #  \n",
    "a=22  \n",
    "not a  "
   ]
  },
  {
   "cell_type": "markdown",
   "id": "04794f67",
   "metadata": {},
   "source": [
    "### bitwise operators  "
   ]
  },
  {
   "cell_type": "code",
   "execution_count": 30,
   "id": "6e1bffdc",
   "metadata": {},
   "outputs": [
    {
     "data": {
      "text/plain": [
       "2"
      ]
     },
     "execution_count": 30,
     "metadata": {},
     "output_type": "execute_result"
    }
   ],
   "source": [
    "2 & 3  \n",
    "# 2- 0 0 1 0  \n",
    "# 3- 0 0 1 1  \n",
    "# ------------    \n",
    "# - 0 0 1 0   #"
   ]
  },
  {
   "cell_type": "code",
   "execution_count": 22,
   "id": "5e345051",
   "metadata": {},
   "outputs": [
    {
     "data": {
      "text/plain": [
       "7"
      ]
     },
     "execution_count": 22,
     "metadata": {},
     "output_type": "execute_result"
    }
   ],
   "source": [
    "3|4"
   ]
  },
  {
   "cell_type": "code",
   "execution_count": 31,
   "id": "906c1326",
   "metadata": {},
   "outputs": [
    {
     "data": {
      "text/plain": [
       "16"
      ]
     },
     "execution_count": 31,
     "metadata": {},
     "output_type": "execute_result"
    }
   ],
   "source": [
    "2<<3"
   ]
  },
  {
   "cell_type": "code",
   "execution_count": 32,
   "id": "cc9e5949",
   "metadata": {},
   "outputs": [
    {
     "data": {
      "text/plain": [
       "0"
      ]
     },
     "execution_count": 32,
     "metadata": {},
     "output_type": "execute_result"
    }
   ],
   "source": [
    "2>>3 "
   ]
  },
  {
   "cell_type": "markdown",
   "id": "9b2d3042",
   "metadata": {},
   "source": [
    "### identity opoerstors  "
   ]
  },
  {
   "cell_type": "code",
   "execution_count": 34,
   "id": "5908d4a2",
   "metadata": {},
   "outputs": [
    {
     "name": "stderr",
     "output_type": "stream",
     "text": [
      "<>:1: SyntaxWarning: \"is\" with a literal. Did you mean \"==\"?\n",
      "<>:1: SyntaxWarning: \"is not\" with a literal. Did you mean \"!=\"?\n",
      "<>:1: SyntaxWarning: \"is\" with a literal. Did you mean \"==\"?\n",
      "<>:1: SyntaxWarning: \"is not\" with a literal. Did you mean \"!=\"?\n",
      "C:\\Users\\Lab\\AppData\\Local\\Temp/ipykernel_2700/3974128756.py:1: SyntaxWarning: \"is\" with a literal. Did you mean \"==\"?\n",
      "  a is 100 and a is not 100\n",
      "C:\\Users\\Lab\\AppData\\Local\\Temp/ipykernel_2700/3974128756.py:1: SyntaxWarning: \"is not\" with a literal. Did you mean \"!=\"?\n",
      "  a is 100 and a is not 100\n"
     ]
    },
    {
     "data": {
      "text/plain": [
       "False"
      ]
     },
     "execution_count": 34,
     "metadata": {},
     "output_type": "execute_result"
    }
   ],
   "source": [
    "a is 100 and a is not 100  "
   ]
  },
  {
   "cell_type": "code",
   "execution_count": 35,
   "id": "a66fc302",
   "metadata": {},
   "outputs": [
    {
     "data": {
      "text/plain": [
       "False"
      ]
     },
     "execution_count": 35,
     "metadata": {},
     "output_type": "execute_result"
    }
   ],
   "source": [
    "a==100 and a!=100"
   ]
  },
  {
   "cell_type": "markdown",
   "id": "ee15bf60",
   "metadata": {},
   "source": [
    "### membership operstors  "
   ]
  },
  {
   "cell_type": "code",
   "execution_count": 36,
   "id": "d504fc32",
   "metadata": {},
   "outputs": [
    {
     "data": {
      "text/plain": [
       "True"
      ]
     },
     "execution_count": 36,
     "metadata": {},
     "output_type": "execute_result"
    }
   ],
   "source": [
    "s=[1,2,3,4,6,8]  \n",
    "4 in s  "
   ]
  },
  {
   "cell_type": "code",
   "execution_count": 37,
   "id": "2865cdc6",
   "metadata": {},
   "outputs": [
    {
     "data": {
      "text/plain": [
       "True"
      ]
     },
     "execution_count": 37,
     "metadata": {},
     "output_type": "execute_result"
    }
   ],
   "source": [
    "10 not in s"
   ]
  },
  {
   "cell_type": "code",
   "execution_count": 38,
   "id": "05034e67",
   "metadata": {},
   "outputs": [
    {
     "data": {
      "text/plain": [
       "False"
      ]
     },
     "execution_count": 38,
     "metadata": {},
     "output_type": "execute_result"
    }
   ],
   "source": [
    "2 not in s"
   ]
  },
  {
   "cell_type": "code",
   "execution_count": 41,
   "id": "bcda7487",
   "metadata": {},
   "outputs": [
    {
     "data": {
      "text/plain": [
       "21"
      ]
     },
     "execution_count": 41,
     "metadata": {},
     "output_type": "execute_result"
    }
   ],
   "source": [
    "a= 20  \n",
    "a=a+1\n",
    "a"
   ]
  },
  {
   "cell_type": "markdown",
   "id": "ef05e6e5",
   "metadata": {},
   "source": [
    "### AUTO INCREMENT  AND AUTO DECREMENT  "
   ]
  },
  {
   "cell_type": "code",
   "execution_count": 57,
   "id": "c83756cc",
   "metadata": {},
   "outputs": [],
   "source": [
    "a=8      \n",
    "a+=1  \n",
    "             "
   ]
  },
  {
   "cell_type": "code",
   "execution_count": 58,
   "id": "27635e3d",
   "metadata": {},
   "outputs": [
    {
     "data": {
      "text/plain": [
       "9"
      ]
     },
     "execution_count": 58,
     "metadata": {},
     "output_type": "execute_result"
    }
   ],
   "source": [
    "a   "
   ]
  },
  {
   "cell_type": "code",
   "execution_count": 59,
   "id": "64090aa5",
   "metadata": {},
   "outputs": [],
   "source": [
    "a=8  \n",
    "a-=1  "
   ]
  },
  {
   "cell_type": "code",
   "execution_count": 60,
   "id": "7af6a5d6",
   "metadata": {},
   "outputs": [
    {
     "data": {
      "text/plain": [
       "7"
      ]
     },
     "execution_count": 60,
     "metadata": {},
     "output_type": "execute_result"
    }
   ],
   "source": [
    "a  "
   ]
  },
  {
   "cell_type": "code",
   "execution_count": 61,
   "id": "2323e435",
   "metadata": {},
   "outputs": [
    {
     "name": "stdout",
     "output_type": "stream",
     "text": [
      "7\n"
     ]
    }
   ],
   "source": [
    "a*=1  \n",
    "print(a)  "
   ]
  },
  {
   "cell_type": "code",
   "execution_count": 62,
   "id": "5b25830f",
   "metadata": {},
   "outputs": [
    {
     "name": "stdout",
     "output_type": "stream",
     "text": [
      "7.0\n"
     ]
    }
   ],
   "source": [
    "a/=1  \n",
    "print(a)  "
   ]
  },
  {
   "cell_type": "markdown",
   "id": "548c2d67",
   "metadata": {},
   "source": [
    "### flow control  \n",
    "- conditional statements(if,else,nested ifelseif)  \n",
    "- loops(for,while)  \n",
    "- break,return  "
   ]
  },
  {
   "cell_type": "code",
   "execution_count": 63,
   "id": "d5c6b2fa",
   "metadata": {},
   "outputs": [
    {
     "ename": "SyntaxError",
     "evalue": "invalid syntax (Temp/ipykernel_2700/3007452066.py, line 2)",
     "output_type": "error",
     "traceback": [
      "\u001b[1;36m  File \u001b[1;32m\"C:\\Users\\Lab\\AppData\\Local\\Temp/ipykernel_2700/3007452066.py\"\u001b[1;36m, line \u001b[1;32m2\u001b[0m\n\u001b[1;33m    if(condtion){\u001b[0m\n\u001b[1;37m                ^\u001b[0m\n\u001b[1;31mSyntaxError\u001b[0m\u001b[1;31m:\u001b[0m invalid syntax\n"
     ]
    }
   ],
   "source": [
    "# c-language  \n",
    "if(condtion){\n",
    "    print(a)  \n",
    "}  "
   ]
  },
  {
   "cell_type": "markdown",
   "id": "f45d5bf7",
   "metadata": {},
   "source": [
    "### conditional statements  "
   ]
  },
  {
   "cell_type": "code",
   "execution_count": null,
   "id": "546dc1cd",
   "metadata": {},
   "outputs": [],
   "source": [
    "# if\n",
    "if(condition):  \n",
    "    statement1  \n",
    "    statement2  \n",
    "    statement3  \n",
    "    ---------  \n",
    "    statementn  \n",
    "  \n",
    "    "
   ]
  },
  {
   "cell_type": "code",
   "execution_count": null,
   "id": "ba5c3778",
   "metadata": {},
   "outputs": [],
   "source": [
    "# if-else   \n",
    "if(condition):  \n",
    "    statement1  \n",
    "    statement2  \n",
    "    statement3  \n",
    "    --------- \n",
    "    statementn  \n",
    "else:  \n",
    "    statement1  \n",
    "    statement2  \n",
    "    ---------   \n",
    "    statementn  \n",
    "    "
   ]
  },
  {
   "cell_type": "code",
   "execution_count": 64,
   "id": "660bd33a",
   "metadata": {},
   "outputs": [],
   "source": [
    "if 2>3:  \n",
    "    print(\"true\")  "
   ]
  },
  {
   "cell_type": "code",
   "execution_count": 65,
   "id": "b3ad227a",
   "metadata": {},
   "outputs": [
    {
     "name": "stdout",
     "output_type": "stream",
     "text": [
      "false\n"
     ]
    }
   ],
   "source": [
    "if 2>3:  \n",
    "    print(\"true\")  \n",
    "else:  \n",
    "    print(\"false\")   "
   ]
  },
  {
   "cell_type": "code",
   "execution_count": 67,
   "id": "e3405793",
   "metadata": {},
   "outputs": [
    {
     "name": "stdout",
     "output_type": "stream",
     "text": [
      "enter the  number28\n",
      "even number\n"
     ]
    }
   ],
   "source": [
    "# given number is even or odd   \n",
    "n=int(input(\"enter the  number\"))  \n",
    "if(n%2==0):   \n",
    "    print(\"even number\")  \n",
    "else:  \n",
    "    print(\"odd number\")  \n"
   ]
  },
  {
   "cell_type": "code",
   "execution_count": 72,
   "id": "141ecd5b",
   "metadata": {},
   "outputs": [
    {
     "name": "stdout",
     "output_type": "stream",
     "text": [
      "enter the number55\n",
      "the number is positive\n"
     ]
    }
   ],
   "source": [
    "# given number is zer0 positive or negative  \n",
    "b=int(input(\"enter the number\"))  \n",
    "if(b>0):  \n",
    "    print(\"the number is positive\")  \n",
    "elif(b<0):\n",
    "    print(\"the number is negative\")  \n",
    "elif(b==0):\n",
    "    print(\"the number is zero\")  \n",
    "\n"
   ]
  },
  {
   "cell_type": "code",
   "execution_count": 77,
   "id": "693d8067",
   "metadata": {},
   "outputs": [
    {
     "name": "stdout",
     "output_type": "stream",
     "text": [
      "enter the number6\n",
      "the number is divisible by 2 \n"
     ]
    }
   ],
   "source": [
    "# number is divisible by 2 but not 10  \n",
    "c=int(input(\"enter the number\"))  \n",
    "if(c%2==0):\n",
    "    print(\"the number is divisible by 2 \")  \n",
    "elif (c%10!=0):  \n",
    "    print(\"the number is not divisible by 10\") \n",
    "else:\n",
    "    print(\"not divisible by both numbers\")  \n"
   ]
  },
  {
   "cell_type": "code",
   "execution_count": 78,
   "id": "180067b6",
   "metadata": {},
   "outputs": [
    {
     "name": "stdout",
     "output_type": "stream",
     "text": [
      "invalid number\n"
     ]
    }
   ],
   "source": [
    "a=33  \n",
    "if a%2==0 and a%10!=0:  \n",
    "    print(\"valid number\")\n",
    "else:  \n",
    "    print(\"invalid number\")  "
   ]
  },
  {
   "cell_type": "markdown",
   "id": "b0b9e274",
   "metadata": {},
   "source": [
    "### range  \n",
    "- syntax for the range is rasnge(start,endvalue,step value)  \n",
    "- starting value is inclusive and end value is exclusive  \n",
    " "
   ]
  },
  {
   "cell_type": "code",
   "execution_count": 79,
   "id": "a664b668",
   "metadata": {},
   "outputs": [
    {
     "ename": "NameError",
     "evalue": "name 'start' is not defined",
     "output_type": "error",
     "traceback": [
      "\u001b[1;31m---------------------------------------------------------------------------\u001b[0m",
      "\u001b[1;31mNameError\u001b[0m                                 Traceback (most recent call last)",
      "\u001b[1;32m~\\AppData\\Local\\Temp/ipykernel_2700/439827694.py\u001b[0m in \u001b[0;36m<module>\u001b[1;34m\u001b[0m\n\u001b[1;32m----> 1\u001b[1;33m \u001b[0mrange\u001b[0m\u001b[1;33m(\u001b[0m\u001b[0mstart\u001b[0m\u001b[1;33m,\u001b[0m\u001b[0mend\u001b[0m\u001b[1;33m,\u001b[0m\u001b[0mstep\u001b[0m\u001b[1;33m)\u001b[0m\u001b[1;33m\u001b[0m\u001b[1;33m\u001b[0m\u001b[0m\n\u001b[0m",
      "\u001b[1;31mNameError\u001b[0m: name 'start' is not defined"
     ]
    }
   ],
   "source": [
    "range(start,end,step)  "
   ]
  },
  {
   "cell_type": "code",
   "execution_count": null,
   "id": "2311bad7",
   "metadata": {},
   "outputs": [],
   "source": [
    "range(10,20,1)  \n",
    "# 10,11,12,13,14,15,16,17,18,19  \n",
    "range(20,30,2)  \n",
    "# 20,22,24,26,28  \n",
    "range(20,41,5)  \n",
    "# 25,30,35,40  \n",
    "range(50)   \n",
    "# consider as start value  \n",
    "range(20,30)  \n",
    "# consider start value and end value  \n",
    "# reverse print  \n",
    "range(10,1,-1)  \n"
   ]
  },
  {
   "cell_type": "code",
   "execution_count": 90,
   "id": "3139766b",
   "metadata": {},
   "outputs": [
    {
     "data": {
      "text/plain": [
       "[10, 11, 12, 13, 14, 15, 16, 17, 18, 19]"
      ]
     },
     "execution_count": 90,
     "metadata": {},
     "output_type": "execute_result"
    }
   ],
   "source": [
    "list(range(10,20,1))    "
   ]
  },
  {
   "cell_type": "code",
   "execution_count": 92,
   "id": "df808df1",
   "metadata": {},
   "outputs": [
    {
     "data": {
      "text/plain": [
       "[20, 22, 24, 26, 28]"
      ]
     },
     "execution_count": 92,
     "metadata": {},
     "output_type": "execute_result"
    }
   ],
   "source": [
    "list(range(20,30,2))  "
   ]
  },
  {
   "cell_type": "code",
   "execution_count": 91,
   "id": "7dad8c00",
   "metadata": {},
   "outputs": [
    {
     "data": {
      "text/plain": [
       "[20, 25, 30, 35, 40]"
      ]
     },
     "execution_count": 91,
     "metadata": {},
     "output_type": "execute_result"
    }
   ],
   "source": [
    "list(range(20,41,5))    "
   ]
  },
  {
   "cell_type": "code",
   "execution_count": 93,
   "id": "b9a7848b",
   "metadata": {},
   "outputs": [
    {
     "data": {
      "text/plain": [
       "[0,\n",
       " 1,\n",
       " 2,\n",
       " 3,\n",
       " 4,\n",
       " 5,\n",
       " 6,\n",
       " 7,\n",
       " 8,\n",
       " 9,\n",
       " 10,\n",
       " 11,\n",
       " 12,\n",
       " 13,\n",
       " 14,\n",
       " 15,\n",
       " 16,\n",
       " 17,\n",
       " 18,\n",
       " 19,\n",
       " 20,\n",
       " 21,\n",
       " 22,\n",
       " 23,\n",
       " 24,\n",
       " 25,\n",
       " 26,\n",
       " 27,\n",
       " 28,\n",
       " 29,\n",
       " 30,\n",
       " 31,\n",
       " 32,\n",
       " 33,\n",
       " 34,\n",
       " 35,\n",
       " 36,\n",
       " 37,\n",
       " 38,\n",
       " 39,\n",
       " 40,\n",
       " 41,\n",
       " 42,\n",
       " 43,\n",
       " 44,\n",
       " 45,\n",
       " 46,\n",
       " 47,\n",
       " 48,\n",
       " 49]"
      ]
     },
     "execution_count": 93,
     "metadata": {},
     "output_type": "execute_result"
    }
   ],
   "source": [
    "list(range(50))  \n",
    "\n",
    "       "
   ]
  },
  {
   "cell_type": "code",
   "execution_count": 94,
   "id": "a56ad141",
   "metadata": {},
   "outputs": [
    {
     "data": {
      "text/plain": [
       "[20, 21, 22, 23, 24, 25, 26, 27, 28, 29]"
      ]
     },
     "execution_count": 94,
     "metadata": {},
     "output_type": "execute_result"
    }
   ],
   "source": [
    "list(range(20,30))    "
   ]
  },
  {
   "cell_type": "code",
   "execution_count": 95,
   "id": "07788aae",
   "metadata": {},
   "outputs": [
    {
     "data": {
      "text/plain": [
       "[10, 9, 8, 7, 6, 5, 4, 3, 2]"
      ]
     },
     "execution_count": 95,
     "metadata": {},
     "output_type": "execute_result"
    }
   ],
   "source": [
    "list(range(10,1,-1))  "
   ]
  },
  {
   "cell_type": "code",
   "execution_count": null,
   "id": "89f51667",
   "metadata": {},
   "outputs": [],
   "source": []
  }
 ],
 "metadata": {
  "kernelspec": {
   "display_name": "Python 3 (ipykernel)",
   "language": "python",
   "name": "python3"
  },
  "language_info": {
   "codemirror_mode": {
    "name": "ipython",
    "version": 3
   },
   "file_extension": ".py",
   "mimetype": "text/x-python",
   "name": "python",
   "nbconvert_exporter": "python",
   "pygments_lexer": "ipython3",
   "version": "3.9.7"
  }
 },
 "nbformat": 4,
 "nbformat_minor": 5
}
