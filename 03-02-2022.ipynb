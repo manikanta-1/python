{
 "cells": [
  {
   "cell_type": "markdown",
   "id": "c629269f",
   "metadata": {},
   "source": [
    "### WHILE LOOP\n",
    "- it exicutes block of set of instructions until the condition is false  \n",
    "- while we dont the range  \n",
    "- exicute faster than for loop  \n",
    "- user incrementation  "
   ]
  },
  {
   "cell_type": "code",
   "execution_count": null,
   "id": "af421bf2",
   "metadata": {},
   "outputs": [],
   "source": [
    "# while syntax  \n",
    "intialization  \n",
    "while condition:  \n",
    "    statements  \n",
    "    incr/decrement"
   ]
  },
  {
   "cell_type": "code",
   "execution_count": 3,
   "id": "a5f470a2",
   "metadata": {},
   "outputs": [
    {
     "name": "stdout",
     "output_type": "stream",
     "text": [
      "vasavi college\n",
      "vasavi college\n",
      "vasavi college\n",
      "vasavi college\n",
      "vasavi college\n"
     ]
    }
   ],
   "source": [
    "n=1  \n",
    "while n<=5:  \n",
    "    print(\"vasavi college\")  \n",
    "    n=n+1    "
   ]
  },
  {
   "cell_type": "code",
   "execution_count": 4,
   "id": "72a49c1d",
   "metadata": {},
   "outputs": [
    {
     "name": "stdout",
     "output_type": "stream",
     "text": [
      "10 9 8 7 6 5 4 3 2 1 "
     ]
    }
   ],
   "source": [
    "n=10  \n",
    "while n>=1:  \n",
    "    print(n,end=\" \")  \n",
    "    n=n-1  "
   ]
  },
  {
   "cell_type": "code",
   "execution_count": 6,
   "id": "71a4c61e",
   "metadata": {},
   "outputs": [
    {
     "name": "stdout",
     "output_type": "stream",
     "text": [
      "4674745676\n",
      "\n",
      "digit count: 10\n"
     ]
    }
   ],
   "source": [
    "# i/p 1234  \n",
    "# o/p digit count:4  \n",
    "s=int(input())  \n",
    "c=0  \n",
    "while(s!=0): #1234=0  123!=0 12!=0 1!=0  \n",
    "    c=c+1    #1234%10 123%10  \n",
    "    s=s//10  \n",
    "print(\"\\ndigit count:\",c)      "
   ]
  },
  {
   "cell_type": "code",
   "execution_count": 4,
   "id": "d91088eb",
   "metadata": {},
   "outputs": [
    {
     "name": "stdout",
     "output_type": "stream",
     "text": [
      "343\n",
      "the number is palindrome\n"
     ]
    }
   ],
   "source": [
    "# check the givennumber palindrome or not  \n",
    "# 121--- 121  \n",
    "# mom---mom  \n",
    "n=int(input())  \n",
    "s=0  \n",
    "p=n  \n",
    "while(n!=0):  \n",
    "    r=n%10  \n",
    "    s=(s*10)+r  \n",
    "    n=n//10  \n",
    "if(s==p):  \n",
    "    print(\"the number is palindrome\")  \n",
    "else:  \n",
    "    print(\"not palindrome\")  \n"
   ]
  },
  {
   "cell_type": "code",
   "execution_count": null,
   "id": "08c35c57",
   "metadata": {},
   "outputs": [],
   "source": [
    "# syntax::nested for loop  \n",
    "for iter in range(start,end,step):  \n",
    "    for iter in range(start,end,step):  \n",
    "        statement1  \n",
    "        statementn  "
   ]
  },
  {
   "cell_type": "code",
   "execution_count": null,
   "id": "dd68594c",
   "metadata": {},
   "outputs": [],
   "source": [
    "# matrix format  \n",
    "- rows,columns  \n",
    "- 2dimensions  \n",
    "    1 2 3  \n",
    "    1 2 3       "
   ]
  },
  {
   "cell_type": "code",
   "execution_count": 6,
   "id": "030a2852",
   "metadata": {},
   "outputs": [
    {
     "name": "stdout",
     "output_type": "stream",
     "text": [
      "1 1 1 1 \n",
      "2 2 2 2 \n",
      "3 3 3 3 \n",
      "4 4 4 4 \n"
     ]
    }
   ],
   "source": [
    "for row in range(1,5):  \n",
    "    for column in range(1,5):  \n",
    "        print(row,end=\" \")  \n",
    "    print()# new line    \n"
   ]
  },
  {
   "cell_type": "code",
   "execution_count": 7,
   "id": "e24f98b5",
   "metadata": {
    "scrolled": true
   },
   "outputs": [
    {
     "name": "stdout",
     "output_type": "stream",
     "text": [
      "* * * * * * * * \n",
      "* * * * * * * * \n",
      "* * * * * * * * \n",
      "* * * * * * * * \n",
      "* * * * * * * * \n"
     ]
    }
   ],
   "source": [
    "for row in range(1,6):  \n",
    "    for column in range(1,9):  \n",
    "        print(\"*\",end=\" \")  \n",
    "    print()# new line      "
   ]
  },
  {
   "cell_type": "code",
   "execution_count": 8,
   "id": "6d4f4be9",
   "metadata": {},
   "outputs": [
    {
     "name": "stdout",
     "output_type": "stream",
     "text": [
      "* \n",
      "* * \n",
      "* * * \n",
      "* * * * \n",
      "* * * * * \n"
     ]
    }
   ],
   "source": [
    "for i in range(1,6):  \n",
    "    for k in range(1,i+1):  \n",
    "        print(\"*\",end=\" \")  \n",
    "    print()# new line  "
   ]
  },
  {
   "cell_type": "code",
   "execution_count": 9,
   "id": "6255e3c0",
   "metadata": {},
   "outputs": [
    {
     "name": "stdout",
     "output_type": "stream",
     "text": [
      "* \n",
      "* * \n",
      "* * * \n",
      "* * * * \n",
      "* * * * * \n",
      "* * * * * * \n",
      "* * * * * \n",
      "* * * * \n",
      "* * * \n",
      "* * \n",
      "* \n"
     ]
    }
   ],
   "source": [
    "for i in range(1,6):  \n",
    "    for k in range(1,i+1):  \n",
    "        print(\"*\",end=\" \")  \n",
    "    print()# new line  \n",
    "for i in range(6,0,-1):  \n",
    "    for k in range(1,i+1):  \n",
    "        print(\"*\",end=\" \")  \n",
    "    print()# new line  "
   ]
  },
  {
   "cell_type": "code",
   "execution_count": 1,
   "id": "bdce066e",
   "metadata": {},
   "outputs": [
    {
     "name": "stdout",
     "output_type": "stream",
     "text": [
      "2\n",
      "10\n",
      "2 3 5 7 "
     ]
    }
   ],
   "source": [
    "# 1-10  \n",
    "# prime numbers: 2,3,5,7   \n",
    "st=int(input())  \n",
    "en=int(input())  \n",
    "for num in range(st,en+1): #num=1 num=2 num=3 num=4 \n",
    "    c=0  \n",
    "    for var in range(1,num+1):#(1,1)(1,2)(1,3)(1,4)\n",
    "        if num%var==0:  # factors  \n",
    "\n",
    "            c=c+1  \n",
    "    if c==2:  \n",
    "        print(num,end=\" \")          "
   ]
  },
  {
   "cell_type": "code",
   "execution_count": 17,
   "id": "25db02ea",
   "metadata": {},
   "outputs": [
    {
     "name": "stdout",
     "output_type": "stream",
     "text": [
      "1\n",
      "2\n",
      "3\n",
      "4\n",
      "5\n",
      "6\n",
      "7\n",
      "8\n",
      "9\n",
      "10\n",
      "\n",
      "2\n",
      "4\n",
      "6\n",
      "8\n",
      "10\n",
      "12\n",
      "14\n",
      "16\n",
      "18\n",
      "20\n",
      "\n",
      "3\n",
      "6\n",
      "9\n",
      "12\n",
      "15\n",
      "18\n",
      "21\n",
      "24\n",
      "27\n",
      "30\n",
      "\n",
      "4\n",
      "8\n",
      "12\n",
      "16\n",
      "20\n",
      "24\n",
      "28\n",
      "32\n",
      "36\n",
      "40\n",
      "\n",
      "5\n",
      "10\n",
      "15\n",
      "20\n",
      "25\n",
      "30\n",
      "35\n",
      "40\n",
      "45\n",
      "50\n",
      "\n",
      "6\n",
      "12\n",
      "18\n",
      "24\n",
      "30\n",
      "36\n",
      "42\n",
      "48\n",
      "54\n",
      "60\n",
      "\n",
      "7\n",
      "14\n",
      "21\n",
      "28\n",
      "35\n",
      "42\n",
      "49\n",
      "56\n",
      "63\n",
      "70\n",
      "\n",
      "8\n",
      "16\n",
      "24\n",
      "32\n",
      "40\n",
      "48\n",
      "56\n",
      "64\n",
      "72\n",
      "80\n",
      "\n",
      "9\n",
      "18\n",
      "27\n",
      "36\n",
      "45\n",
      "54\n",
      "63\n",
      "72\n",
      "81\n",
      "90\n",
      "\n",
      "10\n",
      "20\n",
      "30\n",
      "40\n",
      "50\n",
      "60\n",
      "70\n",
      "80\n",
      "90\n",
      "100\n",
      "\n"
     ]
    }
   ],
   "source": [
    "# 1-10 tables  \n",
    "n=1  \n",
    "for k in range(1,11):  \n",
    "    for l in range(1,11):  \n",
    "        print(n*l)  \n",
    "    print()  \n",
    "    n=n+1  "
   ]
  },
  {
   "cell_type": "code",
   "execution_count": null,
   "id": "f797c99e",
   "metadata": {},
   "outputs": [],
   "source": [
    "# nested while  \n",
    "- loop inside another loop\n",
    "# syntax  \n",
    "intilization  \n",
    "while condition:  \n",
    "    statements  \n",
    "    incr/decr  \n",
    "    while condition:  \n",
    "        statements  \n",
    "        incr/decr"
   ]
  },
  {
   "cell_type": "code",
   "execution_count": 3,
   "id": "9eea8d9c",
   "metadata": {},
   "outputs": [
    {
     "name": "stdout",
     "output_type": "stream",
     "text": [
      "1 * 1 = 1\n",
      "1 * 2 = 2\n",
      "1 * 3 = 3\n",
      "1 * 4 = 4\n",
      "1 * 5 = 5\n",
      "1 * 6 = 6\n",
      "1 * 7 = 7\n",
      "1 * 8 = 8\n",
      "1 * 9 = 9\n",
      "1 * 10 = 10\n",
      "\n",
      "2 * 1 = 2\n",
      "2 * 2 = 4\n",
      "2 * 3 = 6\n",
      "2 * 4 = 8\n",
      "2 * 5 = 10\n",
      "2 * 6 = 12\n",
      "2 * 7 = 14\n",
      "2 * 8 = 16\n",
      "2 * 9 = 18\n",
      "2 * 10 = 20\n",
      "\n",
      "3 * 1 = 3\n",
      "3 * 2 = 6\n",
      "3 * 3 = 9\n",
      "3 * 4 = 12\n",
      "3 * 5 = 15\n",
      "3 * 6 = 18\n",
      "3 * 7 = 21\n",
      "3 * 8 = 24\n",
      "3 * 9 = 27\n",
      "3 * 10 = 30\n",
      "\n",
      "4 * 1 = 4\n",
      "4 * 2 = 8\n",
      "4 * 3 = 12\n",
      "4 * 4 = 16\n",
      "4 * 5 = 20\n",
      "4 * 6 = 24\n",
      "4 * 7 = 28\n",
      "4 * 8 = 32\n",
      "4 * 9 = 36\n",
      "4 * 10 = 40\n",
      "\n",
      "5 * 1 = 5\n",
      "5 * 2 = 10\n",
      "5 * 3 = 15\n",
      "5 * 4 = 20\n",
      "5 * 5 = 25\n",
      "5 * 6 = 30\n",
      "5 * 7 = 35\n",
      "5 * 8 = 40\n",
      "5 * 9 = 45\n",
      "5 * 10 = 50\n",
      "\n",
      "6 * 1 = 6\n",
      "6 * 2 = 12\n",
      "6 * 3 = 18\n",
      "6 * 4 = 24\n",
      "6 * 5 = 30\n",
      "6 * 6 = 36\n",
      "6 * 7 = 42\n",
      "6 * 8 = 48\n",
      "6 * 9 = 54\n",
      "6 * 10 = 60\n",
      "\n",
      "7 * 1 = 7\n",
      "7 * 2 = 14\n",
      "7 * 3 = 21\n",
      "7 * 4 = 28\n",
      "7 * 5 = 35\n",
      "7 * 6 = 42\n",
      "7 * 7 = 49\n",
      "7 * 8 = 56\n",
      "7 * 9 = 63\n",
      "7 * 10 = 70\n",
      "\n",
      "8 * 1 = 8\n",
      "8 * 2 = 16\n",
      "8 * 3 = 24\n",
      "8 * 4 = 32\n",
      "8 * 5 = 40\n",
      "8 * 6 = 48\n",
      "8 * 7 = 56\n",
      "8 * 8 = 64\n",
      "8 * 9 = 72\n",
      "8 * 10 = 80\n",
      "\n",
      "9 * 1 = 9\n",
      "9 * 2 = 18\n",
      "9 * 3 = 27\n",
      "9 * 4 = 36\n",
      "9 * 5 = 45\n",
      "9 * 6 = 54\n",
      "9 * 7 = 63\n",
      "9 * 8 = 72\n",
      "9 * 9 = 81\n",
      "9 * 10 = 90\n",
      "\n",
      "10 * 1 = 10\n",
      "10 * 2 = 20\n",
      "10 * 3 = 30\n",
      "10 * 4 = 40\n",
      "10 * 5 = 50\n",
      "10 * 6 = 60\n",
      "10 * 7 = 70\n",
      "10 * 8 = 80\n",
      "10 * 9 = 90\n",
      "10 * 10 = 100\n",
      "\n"
     ]
    }
   ],
   "source": [
    "# 1 to 10 tables  \n",
    "i=1  \n",
    "while i<=10:  \n",
    "    j=1  \n",
    "    while j<=10:  \n",
    "        print(i,\"*\",j,\"=\",i*j)  \n",
    "        j+=1  \n",
    "    print()  \n",
    "    i+=1  "
   ]
  },
  {
   "cell_type": "markdown",
   "id": "bc97cb00",
   "metadata": {},
   "source": [
    "### jump statements  \n",
    "- break  \n",
    "- continue  \n",
    "- pass  \n",
    "- we called as unconditional jumps  "
   ]
  },
  {
   "cell_type": "markdown",
   "id": "d0ff27d3",
   "metadata": {},
   "source": [
    "### break  \n",
    "- terminates the current loop statements  \n",
    "- break is a keyword  "
   ]
  },
  {
   "cell_type": "code",
   "execution_count": 4,
   "id": "dfbc6fef",
   "metadata": {},
   "outputs": [
    {
     "name": "stdout",
     "output_type": "stream",
     "text": [
      "p\n",
      "y\n",
      "t\n"
     ]
    }
   ],
   "source": [
    "for i in \"python\":  \n",
    "    if i=='h':  \n",
    "        break  \n",
    "    print(i)\n",
    "        "
   ]
  },
  {
   "cell_type": "code",
   "execution_count": 16,
   "id": "abbdc87a",
   "metadata": {},
   "outputs": [
    {
     "name": "stdout",
     "output_type": "stream",
     "text": [
      "2\n",
      "3\n",
      "4\n",
      "5\n"
     ]
    }
   ],
   "source": [
    "i=1 \n",
    "while(i<=10): \n",
    "    i+=1  \n",
    "    if i==6:  \n",
    "        break  \n",
    "    print(i)  \n",
    "    \n",
    "    "
   ]
  },
  {
   "cell_type": "markdown",
   "id": "ae608a97",
   "metadata": {},
   "source": [
    "### continue  \n",
    "- it skips only current iteration and continue the next  \n",
    "- continue is also a keyword  "
   ]
  },
  {
   "cell_type": "code",
   "execution_count": 18,
   "id": "9509a8ce",
   "metadata": {},
   "outputs": [
    {
     "name": "stdout",
     "output_type": "stream",
     "text": [
      "0\n",
      "1\n",
      "2\n",
      "3\n",
      "4\n",
      "5\n",
      "7\n",
      "8\n",
      "9\n"
     ]
    }
   ],
   "source": [
    "for i in range(10):  \n",
    "    if i==6:  \n",
    "        continue  \n",
    "        print(\"fffgb\")  \n",
    "    print(i)  "
   ]
  },
  {
   "cell_type": "code",
   "execution_count": 23,
   "id": "b365fcbd",
   "metadata": {},
   "outputs": [
    {
     "name": "stdout",
     "output_type": "stream",
     "text": [
      "1\n",
      "3\n",
      "5\n",
      "7\n",
      "9\n"
     ]
    }
   ],
   "source": [
    "# print odd numbers  \n",
    "for i in range(10):  \n",
    "    if(i%2==0):  \n",
    "        continue  \n",
    "    print(i)"
   ]
  },
  {
   "cell_type": "markdown",
   "id": "21e8896a",
   "metadata": {},
   "source": [
    "### pass  \n",
    "- it is a keyword  \n",
    "- when we need condition scientifically correct need to change another operation  \n",
    "- it will give a NULL operation  \n",
    "- pass statement we use to create empty classes also"
   ]
  },
  {
   "cell_type": "code",
   "execution_count": 26,
   "id": "2ab11918",
   "metadata": {},
   "outputs": [
    {
     "name": "stdout",
     "output_type": "stream",
     "text": [
      "p\n",
      "y\n",
      "t\n",
      "pass excuted\n",
      "h\n",
      "o\n",
      "n\n"
     ]
    }
   ],
   "source": [
    "s=\"python\"  \n",
    "for i in s:  \n",
    "    if i=='h':  \n",
    "        pass  \n",
    "        print(\"pass excuted\")  \n",
    "    print(i)"
   ]
  },
  {
   "cell_type": "markdown",
   "id": "4921e00c",
   "metadata": {},
   "source": [
    "### Strings  \n",
    "- string is a group of characters  \n",
    "- string is a immutable because we cant change tha values   \n",
    "- all strings return a new values  "
   ]
  },
  {
   "cell_type": "code",
   "execution_count": 27,
   "id": "b9d5e13f",
   "metadata": {},
   "outputs": [
    {
     "name": "stdout",
     "output_type": "stream",
     "text": [
      "<class 'str'>\n"
     ]
    }
   ],
   "source": [
    "a=\"vasavi college\"  \n",
    "print(type(a))  "
   ]
  },
  {
   "cell_type": "code",
   "execution_count": 28,
   "id": "ead7b50a",
   "metadata": {},
   "outputs": [
    {
     "name": "stdout",
     "output_type": "stream",
     "text": [
      "14\n"
     ]
    }
   ],
   "source": [
    "print(len(a))"
   ]
  },
  {
   "cell_type": "code",
   "execution_count": 29,
   "id": "966ab394",
   "metadata": {},
   "outputs": [
    {
     "name": "stdout",
     "output_type": "stream",
     "text": [
      " \n"
     ]
    }
   ],
   "source": [
    "print(min(a))  "
   ]
  },
  {
   "cell_type": "code",
   "execution_count": 30,
   "id": "88722042",
   "metadata": {},
   "outputs": [
    {
     "name": "stdout",
     "output_type": "stream",
     "text": [
      "v\n"
     ]
    }
   ],
   "source": [
    "print(max(a))  "
   ]
  },
  {
   "cell_type": "code",
   "execution_count": 31,
   "id": "efa59469",
   "metadata": {},
   "outputs": [
    {
     "name": "stdout",
     "output_type": "stream",
     "text": [
      "[' ', 'a', 'a', 'c', 'e', 'e', 'g', 'i', 'l', 'l', 'o', 's', 'v', 'v']\n"
     ]
    }
   ],
   "source": [
    "print(sorted(a))  "
   ]
  },
  {
   "cell_type": "code",
   "execution_count": 32,
   "id": "b6159a43",
   "metadata": {},
   "outputs": [
    {
     "name": "stdout",
     "output_type": "stream",
     "text": [
      "pythonworkshop\n",
      "python workshop\n"
     ]
    }
   ],
   "source": [
    "s=\"python\"  \n",
    "s1=\"workshop\"  \n",
    "print(s+s1)  \n",
    "print(s,s1)  \n"
   ]
  },
  {
   "cell_type": "code",
   "execution_count": 37,
   "id": "f5aff485",
   "metadata": {},
   "outputs": [
    {
     "name": "stdout",
     "output_type": "stream",
     "text": [
      "15\n",
      "p\n",
      "p\n",
      "p\n",
      "n\n",
      "o\n",
      "python workshop\n",
      "pohskrow nohtyp\n",
      "pyth\n",
      "n works\n",
      "\n"
     ]
    }
   ],
   "source": [
    "# slicing syntax::(start:end:step)  \n",
    "# postive indexing(left to right)  \n",
    "# negative indexing(right to left)  \n",
    "s=\"python workshop\"  \n",
    "print(len(s))  \n",
    "print(s[0])  \n",
    "print(s[14])  \n",
    "print(s[-1])  \n",
    "print(s[5])  \n",
    "print(s[-2]) \n",
    "print(s[::])  \n",
    "print(s[::-1])  \n",
    "print(s[0:4])  \n",
    "print(s[5:12])   \n",
    "print(s[-1:5])"
   ]
  },
  {
   "cell_type": "code",
   "execution_count": null,
   "id": "0c444273",
   "metadata": {},
   "outputs": [],
   "source": []
  }
 ],
 "metadata": {
  "kernelspec": {
   "display_name": "Python 3 (ipykernel)",
   "language": "python",
   "name": "python3"
  },
  "language_info": {
   "codemirror_mode": {
    "name": "ipython",
    "version": 3
   },
   "file_extension": ".py",
   "mimetype": "text/x-python",
   "name": "python",
   "nbconvert_exporter": "python",
   "pygments_lexer": "ipython3",
   "version": "3.9.7"
  }
 },
 "nbformat": 4,
 "nbformat_minor": 5
}
