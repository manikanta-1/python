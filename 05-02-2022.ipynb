{
 "cells": [
  {
   "cell_type": "markdown",
   "id": "3fea8d3d",
   "metadata": {},
   "source": [
    "### file handling   \n",
    "- file:  \n",
    "  - file is an named location or memory used to store relative information  \n",
    "  - .csv,.py,.html........etc  \n",
    "- file handling :   \n",
    "   - it allows user to handle   \n",
    "- compared to other languages  programming languages file hnadling is easy in ython  \n",
    "- read and write files along with the other files handle options to work on files   \n",
    "- steps of the handling:  \n",
    "    - open file  \n",
    "    - doing operationds  \n",
    "    - close as file  \n",
    "- open function()  \n",
    "   - we use open file()in python to  open the file  in  read and write options  \n",
    "   - to return a object we use in open function()along 2 arguements that are filename mode   \n",
    "   - syntax:  \n",
    "      open (filename.mode)    \n",
    "- modes are three types  to open a file  \n",
    "    - read()---------'r'-------=--->to read a file  \n",
    "      - file_variable.read(size)   \n",
    "    -  write()--'w'-->to write a file \n",
    "       - file variable.write(data)    \n",
    "    - apend()--'a'-->to add a information to afile  \n",
    "       - file_variable.append(data)   \n",
    "- by default the file will open as 'r' mode  \n",
    "- close()\n",
    "  - it is used to close a file         \n",
    "  - every time you have to close a file at the end of  operations otherwise the changes will not be applicable    \n",
    "   "
   ]
  },
  {
   "cell_type": "code",
   "execution_count": 1,
   "id": "62eb983f",
   "metadata": {},
   "outputs": [
    {
     "name": "stdout",
     "output_type": "stream",
     "text": [
      "succesfully opened\n"
     ]
    }
   ],
   "source": [
    "f=open(\"data.txt\",'r')  \n",
    "if f:  \n",
    "    print(\"succesfully opened\")    \n",
    "else:  \n",
    "    print(\"failed\")  "
   ]
  },
  {
   "cell_type": "code",
   "execution_count": 2,
   "id": "8a952373",
   "metadata": {},
   "outputs": [
    {
     "name": "stdout",
     "output_type": "stream",
     "text": [
      "hi friends\n"
     ]
    }
   ],
   "source": [
    "# read  \n",
    "f= open(\"data.txt\")  \n",
    "print(f.read())  \n",
    "f.close()  "
   ]
  },
  {
   "cell_type": "code",
   "execution_count": 3,
   "id": "69553365",
   "metadata": {},
   "outputs": [
    {
     "name": "stdout",
     "output_type": "stream",
     "text": [
      "hi friends\n"
     ]
    }
   ],
   "source": [
    "# using with keyword automatically  file will be closed  \n",
    "with open(\"data.txt\") as f:  \n",
    "    fr=f.read()  \n",
    "    print(fr)"
   ]
  },
  {
   "cell_type": "code",
   "execution_count": 4,
   "id": "5aeb5003",
   "metadata": {},
   "outputs": [
    {
     "name": "stdout",
     "output_type": "stream",
     "text": [
      "hi fri\n"
     ]
    }
   ],
   "source": [
    " f= open(\"data.txt\")  \n",
    "print(f.read(6))  \n",
    "f.close()  "
   ]
  },
  {
   "cell_type": "code",
   "execution_count": 9,
   "id": "324715f2",
   "metadata": {},
   "outputs": [
    {
     "name": "stdout",
     "output_type": "stream",
     "text": [
      "18\n"
     ]
    }
   ],
   "source": [
    "f=open(\"data1.txt\",'w')  \n",
    "fr=f.write(\"python programming\")\n",
    "print(fr)  \n",
    "f.close()"
   ]
  },
  {
   "cell_type": "markdown",
   "id": "3843711b",
   "metadata": {},
   "source": [
    "### file handling methods  \n",
    "- open()  \n",
    "- read()\n",
    "- write()  \n",
    "- close()\n",
    "- readline()\n",
    "- readlines()\n",
    "- seek()  \n",
    "- tell()\n",
    "- types of modes:  \n",
    "  - read()---'r' \n",
    "  - write()---'w'  \n",
    "  - append()--'a'"
   ]
  },
  {
   "cell_type": "code",
   "execution_count": 14,
   "id": "6f627ade",
   "metadata": {},
   "outputs": [],
   "source": [
    "f=open(\"data1.txt\")  "
   ]
  },
  {
   "cell_type": "code",
   "execution_count": 15,
   "id": "a434d3bd",
   "metadata": {},
   "outputs": [],
   "source": [
    "info=f.read(6)\n"
   ]
  },
  {
   "cell_type": "code",
   "execution_count": 16,
   "id": "4c0493d0",
   "metadata": {},
   "outputs": [
    {
     "name": "stdout",
     "output_type": "stream",
     "text": [
      "python\n"
     ]
    }
   ],
   "source": [
    "print(info)"
   ]
  },
  {
   "cell_type": "code",
   "execution_count": 17,
   "id": "467033b3",
   "metadata": {},
   "outputs": [
    {
     "name": "stdout",
     "output_type": "stream",
     "text": [
      " programming\n"
     ]
    }
   ],
   "source": [
    "d=f.read()\n",
    "print(d)"
   ]
  },
  {
   "cell_type": "code",
   "execution_count": 18,
   "id": "55ff8d27",
   "metadata": {},
   "outputs": [],
   "source": [
    "f.close()"
   ]
  },
  {
   "cell_type": "markdown",
   "id": "d3ee6763",
   "metadata": {},
   "source": [
    "### write mode()  \n",
    "-  it is used to write something in file\n",
    "- if file is not there directory,the file will be created and data will be written in that file "
   ]
  },
  {
   "cell_type": "code",
   "execution_count": 19,
   "id": "94170b8a",
   "metadata": {},
   "outputs": [],
   "source": [
    "fo=open('data.txt','w')  \n",
    "  \n",
    "    "
   ]
  },
  {
   "cell_type": "code",
   "execution_count": 21,
   "id": "fddb9ed9",
   "metadata": {},
   "outputs": [
    {
     "data": {
      "text/plain": [
       "6"
      ]
     },
     "execution_count": 21,
     "metadata": {},
     "output_type": "execute_result"
    }
   ],
   "source": [
    "fo.write(\"gudbye\")  "
   ]
  },
  {
   "cell_type": "code",
   "execution_count": 23,
   "id": "9c414118",
   "metadata": {},
   "outputs": [
    {
     "data": {
      "text/plain": [
       "13"
      ]
     },
     "execution_count": 23,
     "metadata": {},
     "output_type": "execute_result"
    }
   ],
   "source": [
    "f=open('data.txt','a')\n",
    "fo.write(\"yhgjtgmgykhkf\")  "
   ]
  },
  {
   "cell_type": "code",
   "execution_count": 24,
   "id": "c8293bea",
   "metadata": {},
   "outputs": [
    {
     "name": "stdout",
     "output_type": "stream",
     "text": [
      "<_io.TextIOWrapper name='data.txt' mode='a' encoding='cp1252'>\n"
     ]
    }
   ],
   "source": [
    "print(f)"
   ]
  },
  {
   "cell_type": "code",
   "execution_count": 1,
   "id": "9fc24859",
   "metadata": {},
   "outputs": [
    {
     "name": "stdout",
     "output_type": "stream",
     "text": [
      "gudbyeyhgjtgmgykhkf\n"
     ]
    }
   ],
   "source": [
    "f=open(\"data.txt\",'r')\n",
    "s=f.readline() \n",
    "print(s)  \n",
    "\n"
   ]
  },
  {
   "cell_type": "code",
   "execution_count": 2,
   "id": "26a20399",
   "metadata": {},
   "outputs": [
    {
     "name": "stdout",
     "output_type": "stream",
     "text": [
      "['gudbyeyhgjtgmgykhkf']\n"
     ]
    }
   ],
   "source": [
    "f=open(\"data.txt\",'r')\n",
    "s=f.readlines()\n",
    "print(s)\n"
   ]
  },
  {
   "cell_type": "code",
   "execution_count": 3,
   "id": "59a74962",
   "metadata": {},
   "outputs": [
    {
     "name": "stdout",
     "output_type": "stream",
     "text": [
      "number of lines in the file: 1\n"
     ]
    }
   ],
   "source": [
    "with open(\"data.txt\",'r') as f:  \n",
    "    no_of_lines=f.readlines()\n",
    "    print(\"number of lines in the file:\",len(no_of_lines))"
   ]
  },
  {
   "cell_type": "code",
   "execution_count": 4,
   "id": "75facd14",
   "metadata": {},
   "outputs": [
    {
     "name": "stdout",
     "output_type": "stream",
     "text": [
      "number of words are: 1\n"
     ]
    }
   ],
   "source": [
    "#  no of words in the given file  \n",
    "words=0  \n",
    "for line in no_of_lines:\n",
    "    words_list=line.split() \n",
    "    words+=len(words_list)  \n",
    "print(\"number of words are:\",words)  "
   ]
  },
  {
   "cell_type": "code",
   "execution_count": null,
   "id": "480f0cf2",
   "metadata": {},
   "outputs": [],
   "source": []
  }
 ],
 "metadata": {
  "kernelspec": {
   "display_name": "Python 3 (ipykernel)",
   "language": "python",
   "name": "python3"
  },
  "language_info": {
   "codemirror_mode": {
    "name": "ipython",
    "version": 3
   },
   "file_extension": ".py",
   "mimetype": "text/x-python",
   "name": "python",
   "nbconvert_exporter": "python",
   "pygments_lexer": "ipython3",
   "version": "3.9.7"
  }
 },
 "nbformat": 4,
 "nbformat_minor": 5
}
