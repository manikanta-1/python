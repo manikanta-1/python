{
 "cells": [
  {
   "cell_type": "markdown",
   "id": "3fea8d3d",
   "metadata": {},
   "source": [
    "### file handling   \n",
    "- file:  \n",
    "  - file is an named location or memory used to store relative information  \n",
    "  - .csv,.py,.html........etc  \n",
    "- file handling :   \n",
    "   - it allows user to handle   \n",
    "- compared to other languages  programming languages file hnadling is easy in ython  \n",
    "- read and write files along with the other files handle options to work on files   \n",
    "- steps of the handling:  \n",
    "    - open file  \n",
    "    - doing operationds  \n",
    "    - close as file  \n",
    "- open function()  \n",
    "   - we use open file()in python to  open the file  in  read and write options  \n",
    "   - to return a object we use in open function()along 2 arguements that are filename mode   \n",
    "   - syntax:  \n",
    "      open (filename.mode)    \n",
    "- modes are three types  to open a file  \n",
    "    - read()---------'r'-------=--->to read a file  \n",
    "      - file_variable.read(size)   \n",
    "    -  write()--'w'-->to write a file \n",
    "       - file variable.write(data)    \n",
    "    - apend()--'a'-->to add a information to afile  \n",
    "       - file_variable.append(data)   \n",
    "- by default the file will open as 'r' mode  \n",
    "- close()\n",
    "  - it is used to close a file         \n",
    "  - every time you have to close a file at the end of  operations otherwise the changes will not be applicable    \n",
    "   "
   ]
  },
  {
   "cell_type": "code",
   "execution_count": 1,
   "id": "62eb983f",
   "metadata": {},
   "outputs": [
    {
     "name": "stdout",
     "output_type": "stream",
     "text": [
      "succesfully opened\n"
     ]
    }
   ],
   "source": [
    "f=open(\"data.txt\",'r')  \n",
    "if f:  \n",
    "    print(\"succesfully opened\")    \n",
    "else:  \n",
    "    print(\"failed\")  "
   ]
  },
  {
   "cell_type": "code",
   "execution_count": 2,
   "id": "8a952373",
   "metadata": {},
   "outputs": [
    {
     "name": "stdout",
     "output_type": "stream",
     "text": [
      "hi friends\n"
     ]
    }
   ],
   "source": [
    "# read  \n",
    "f= open(\"data.txt\")  \n",
    "print(f.read())  \n",
    "f.close()  "
   ]
  },
  {
   "cell_type": "code",
   "execution_count": 3,
   "id": "69553365",
   "metadata": {},
   "outputs": [
    {
     "name": "stdout",
     "output_type": "stream",
     "text": [
      "hi friends\n"
     ]
    }
   ],
   "source": [
    "# using with keyword automatically  file will be closed  \n",
    "with open(\"data.txt\") as f:  \n",
    "    fr=f.read()  \n",
    "    print(fr)"
   ]
  },
  {
   "cell_type": "code",
   "execution_count": 4,
   "id": "5aeb5003",
   "metadata": {},
   "outputs": [
    {
     "name": "stdout",
     "output_type": "stream",
     "text": [
      "hi fri\n"
     ]
    }
   ],
   "source": [
    " f= open(\"data.txt\")  \n",
    "print(f.read(6))  \n",
    "f.close()  "
   ]
  },
  {
   "cell_type": "code",
   "execution_count": 9,
   "id": "324715f2",
   "metadata": {},
   "outputs": [
    {
     "name": "stdout",
     "output_type": "stream",
     "text": [
      "18\n"
     ]
    }
   ],
   "source": [
    "f=open(\"data1.txt\",'w')  \n",
    "fr=f.write(\"python programming\")\n",
    "print(fr)  \n",
    "f.close()"
   ]
  },
  {
   "cell_type": "markdown",
   "id": "3843711b",
   "metadata": {},
   "source": [
    "### file handling methods  \n",
    "- open()  \n",
    "- read()\n",
    "- write()  \n",
    "- close()\n",
    "- readline()\n",
    "- readlines()\n",
    "- seek()  \n",
    "- tell()\n",
    "- types of modes:  \n",
    "  - read()---'r' \n",
    "  - write()---'w'  \n",
    "  - append()--'a'"
   ]
  },
  {
   "cell_type": "code",
   "execution_count": 14,
   "id": "6f627ade",
   "metadata": {},
   "outputs": [],
   "source": [
    "f=open(\"data1.txt\")  "
   ]
  },
  {
   "cell_type": "code",
   "execution_count": 15,
   "id": "a434d3bd",
   "metadata": {},
   "outputs": [],
   "source": [
    "info=f.read(6)\n"
   ]
  },
  {
   "cell_type": "code",
   "execution_count": 16,
   "id": "4c0493d0",
   "metadata": {},
   "outputs": [
    {
     "name": "stdout",
     "output_type": "stream",
     "text": [
      "python\n"
     ]
    }
   ],
   "source": [
    "print(info)"
   ]
  },
  {
   "cell_type": "code",
   "execution_count": 17,
   "id": "467033b3",
   "metadata": {},
   "outputs": [
    {
     "name": "stdout",
     "output_type": "stream",
     "text": [
      " programming\n"
     ]
    }
   ],
   "source": [
    "d=f.read()\n",
    "print(d)"
   ]
  },
  {
   "cell_type": "code",
   "execution_count": 18,
   "id": "55ff8d27",
   "metadata": {},
   "outputs": [],
   "source": [
    "f.close()"
   ]
  },
  {
   "cell_type": "markdown",
   "id": "d3ee6763",
   "metadata": {},
   "source": [
    "### write mode()  \n",
    "-  it is used to write something in file\n",
    "- if file is not there directory,the file will be created and data will be written in that file "
   ]
  },
  {
   "cell_type": "code",
   "execution_count": 19,
   "id": "94170b8a",
   "metadata": {},
   "outputs": [],
   "source": [
    "fo=open('data.txt','w')  \n",
    "  \n",
    "    "
   ]
  },
  {
   "cell_type": "code",
   "execution_count": 21,
   "id": "fddb9ed9",
   "metadata": {},
   "outputs": [
    {
     "data": {
      "text/plain": [
       "6"
      ]
     },
     "execution_count": 21,
     "metadata": {},
     "output_type": "execute_result"
    }
   ],
   "source": [
    "fo.write(\"gudbye\")  "
   ]
  },
  {
   "cell_type": "code",
   "execution_count": 23,
   "id": "9c414118",
   "metadata": {},
   "outputs": [
    {
     "data": {
      "text/plain": [
       "13"
      ]
     },
     "execution_count": 23,
     "metadata": {},
     "output_type": "execute_result"
    }
   ],
   "source": [
    "f=open('data.txt','a')\n",
    "fo.write(\"yhgjtgmgykhkf\")  "
   ]
  },
  {
   "cell_type": "code",
   "execution_count": 24,
   "id": "c8293bea",
   "metadata": {},
   "outputs": [
    {
     "name": "stdout",
     "output_type": "stream",
     "text": [
      "<_io.TextIOWrapper name='data.txt' mode='a' encoding='cp1252'>\n"
     ]
    }
   ],
   "source": [
    "print(f)"
   ]
  },
  {
   "cell_type": "code",
   "execution_count": 1,
   "id": "9fc24859",
   "metadata": {},
   "outputs": [
    {
     "name": "stdout",
     "output_type": "stream",
     "text": [
      "gudbyeyhgjtgmgykhkf\n"
     ]
    }
   ],
   "source": [
    "f=open(\"data.txt\",'r')\n",
    "s=f.readline() \n",
    "print(s)  \n",
    "\n"
   ]
  },
  {
   "cell_type": "code",
   "execution_count": 2,
   "id": "26a20399",
   "metadata": {},
   "outputs": [
    {
     "name": "stdout",
     "output_type": "stream",
     "text": [
      "['gudbyeyhgjtgmgykhkf']\n"
     ]
    }
   ],
   "source": [
    "f=open(\"data.txt\",'r')\n",
    "s=f.readlines()\n",
    "print(s)\n"
   ]
  },
  {
   "cell_type": "code",
   "execution_count": 3,
   "id": "59a74962",
   "metadata": {},
   "outputs": [
    {
     "name": "stdout",
     "output_type": "stream",
     "text": [
      "number of lines in the file: 1\n"
     ]
    }
   ],
   "source": [
    "with open(\"data.txt\",'r') as f:  \n",
    "    no_of_lines=f.readlines()\n",
    "    print(\"number of lines in the file:\",len(no_of_lines))"
   ]
  },
  {
   "cell_type": "code",
   "execution_count": 4,
   "id": "75facd14",
   "metadata": {},
   "outputs": [
    {
     "name": "stdout",
     "output_type": "stream",
     "text": [
      "number of words are: 1\n"
     ]
    }
   ],
   "source": [
    "#  no of words in the given file  \n",
    "words=0  \n",
    "for line in no_of_lines:\n",
    "    words_list=line.split() \n",
    "    words+=len(words_list)  \n",
    "print(\"number of words are:\",words)  "
   ]
  },
  {
   "cell_type": "markdown",
   "id": "d75e3ef7",
   "metadata": {},
   "source": [
    "### functions  \n",
    "- builtin functions  \n",
    "  - already existed  \n",
    "  - ex:print(),input(),len(),int()    \n",
    "- user defined functions  \n",
    "  - which are defined by the user  \n",
    "  - ex:any user can create the functions"
   ]
  },
  {
   "cell_type": "code",
   "execution_count": null,
   "id": "d2a41a22",
   "metadata": {},
   "outputs": [],
   "source": [
    "syntax for functions::\n",
    "def function_name(arguements):# function definition  \n",
    "    statements  \n",
    "    statements\n",
    "function_name(parameters)#function calling"
   ]
  },
  {
   "cell_type": "code",
   "execution_count": 1,
   "id": "4cd9c80c",
   "metadata": {},
   "outputs": [
    {
     "name": "stdout",
     "output_type": "stream",
     "text": [
      "even\n"
     ]
    }
   ],
   "source": [
    "def even_odd(x):  \n",
    "    if x%2==0:\n",
    "        print(\"even\")\n",
    "    else:\n",
    "        print(\"odd\")\n",
    "even_odd(10)"
   ]
  },
  {
   "cell_type": "code",
   "execution_count": 16,
   "id": "7701e508",
   "metadata": {},
   "outputs": [
    {
     "name": "stdout",
     "output_type": "stream",
     "text": [
      "not prime\n"
     ]
    }
   ],
   "source": [
    "# prime number\n",
    "def prime_check(n):\n",
    "    count=0\n",
    "    for i in range(1,n+1):\n",
    "        if n%i==0:\n",
    "            count+=1\n",
    "    if count==2:\n",
    "        print(\"prime number\")\n",
    "    else:\n",
    "        print(\"not prime\")\n",
    "        \n",
    "prime_check(9)"
   ]
  },
  {
   "cell_type": "code",
   "execution_count": 15,
   "id": "3c07ebe8",
   "metadata": {},
   "outputs": [
    {
     "data": {
      "text/plain": [
       "True"
      ]
     },
     "execution_count": 15,
     "metadata": {},
     "output_type": "execute_result"
    }
   ],
   "source": [
    "def is_prime(n):\n",
    "    for i in range(3,n+1):\n",
    "        if n%3==0:\n",
    "            return False \n",
    "        return True\n",
    "is_prime(7)\n",
    "        "
   ]
  },
  {
   "cell_type": "code",
   "execution_count": 12,
   "id": "cd2a2d48",
   "metadata": {},
   "outputs": [],
   "source": [
    "# perfect number:given number is equals to the sum of its factors\n",
    "#6--->1+2+3=6(perfect)\n",
    "#8--->1+2+4=7(not perfect)\n",
    "def perfect(a):\n",
    "    p=0 \n",
    "    for i in range(1,a):\n",
    "        if a%i==0:\n",
    "            p=p+i\n",
    "    if p==a:\n",
    "        print(\"the number is perfect\")\n",
    "    else:\n",
    "        print(\"the number is not perfect\")\n",
    "    "
   ]
  },
  {
   "cell_type": "code",
   "execution_count": 13,
   "id": "02ce8717",
   "metadata": {},
   "outputs": [
    {
     "name": "stdout",
     "output_type": "stream",
     "text": [
      "the number is perfect\n"
     ]
    }
   ],
   "source": [
    "perfect(6)"
   ]
  },
  {
   "cell_type": "markdown",
   "id": "f0a8d477",
   "metadata": {},
   "source": [
    "###### Comprehensions\n",
    "- it is a program of creating new sequences from existing sequence\n",
    "- advantages::less code,easy to understand\n",
    "- types:\n",
    "    - list comprehension\n",
    "    - dictionary comprehension\n",
    "    - set comprehension\n",
    "    - generator comprehension\n",
    "- List comprehension\n",
    "    - easy way to create,more efficent and also run faster\n",
    "    - syntax::[expression for item in list if condition]"
   ]
  },
  {
   "cell_type": "code",
   "execution_count": 17,
   "id": "8d4a0d90",
   "metadata": {},
   "outputs": [
    {
     "ename": "TypeError",
     "evalue": "'type' object is not iterable",
     "output_type": "error",
     "traceback": [
      "\u001b[1;31m---------------------------------------------------------------------------\u001b[0m",
      "\u001b[1;31mTypeError\u001b[0m                                 Traceback (most recent call last)",
      "\u001b[1;32m~\\AppData\\Local\\Temp/ipykernel_1088/1952539514.py\u001b[0m in \u001b[0;36m<module>\u001b[1;34m\u001b[0m\n\u001b[0;32m      1\u001b[0m \u001b[1;31m# normal list syntax:\u001b[0m\u001b[1;33m\u001b[0m\u001b[1;33m\u001b[0m\u001b[0m\n\u001b[1;32m----> 2\u001b[1;33m \u001b[1;32mfor\u001b[0m \u001b[0mitem\u001b[0m \u001b[1;32min\u001b[0m \u001b[0mlist\u001b[0m\u001b[1;33m:\u001b[0m\u001b[1;33m\u001b[0m\u001b[1;33m\u001b[0m\u001b[0m\n\u001b[0m\u001b[0;32m      3\u001b[0m     \u001b[1;32mif\u001b[0m \u001b[0mcondition\u001b[0m\u001b[1;33m:\u001b[0m\u001b[1;33m\u001b[0m\u001b[1;33m\u001b[0m\u001b[0m\n\u001b[0;32m      4\u001b[0m         \u001b[0mprint\u001b[0m\u001b[1;33m(\u001b[0m\u001b[1;33m)\u001b[0m\u001b[1;33m\u001b[0m\u001b[1;33m\u001b[0m\u001b[0m\n\u001b[0;32m      5\u001b[0m \u001b[1;33m\u001b[0m\u001b[0m\n",
      "\u001b[1;31mTypeError\u001b[0m: 'type' object is not iterable"
     ]
    }
   ],
   "source": [
    "# normal list syntax:  \n",
    "for item in list:\n",
    "    if condition:\n",
    "        print()\n",
    "        \n",
    "    \n",
    "        "
   ]
  },
  {
   "cell_type": "code",
   "execution_count": 5,
   "id": "6f3f47bd",
   "metadata": {},
   "outputs": [
    {
     "name": "stdout",
     "output_type": "stream",
     "text": [
      "1 2 3 4 5 6 7 8 9 10 "
     ]
    }
   ],
   "source": [
    "for i in range (1,11):\n",
    "    print(i,end=\" \")"
   ]
  },
  {
   "cell_type": "code",
   "execution_count": 8,
   "id": "8edfc02a",
   "metadata": {},
   "outputs": [
    {
     "name": "stdout",
     "output_type": "stream",
     "text": [
      "[1, 2, 3, 4, 5, 6, 7, 8, 9, 10]\n"
     ]
    }
   ],
   "source": [
    "li=[]\n",
    "for i in range (1,11):\n",
    "    li.append(i)\n",
    "print(li)"
   ]
  },
  {
   "cell_type": "code",
   "execution_count": 10,
   "id": "ded3cab2",
   "metadata": {},
   "outputs": [
    {
     "name": "stdout",
     "output_type": "stream",
     "text": [
      "[1, 2, 3, 4, 5, 6, 7, 8, 9, 10]\n"
     ]
    }
   ],
   "source": [
    "li=[i for i in range(1,11)]\n",
    "print(li)"
   ]
  },
  {
   "cell_type": "code",
   "execution_count": 11,
   "id": "7489b069",
   "metadata": {},
   "outputs": [
    {
     "name": "stdout",
     "output_type": "stream",
     "text": [
      "[5, 10, 15, 20, 25, 30, 35, 40, 45, 50]\n"
     ]
    }
   ],
   "source": [
    "li=[i*5 for i in range(1,11)]\n",
    "print(li)"
   ]
  },
  {
   "cell_type": "code",
   "execution_count": 12,
   "id": "9f487e36",
   "metadata": {},
   "outputs": [
    {
     "name": "stdout",
     "output_type": "stream",
     "text": [
      "[2, 4, 6, 8, 10]\n"
     ]
    }
   ],
   "source": [
    "li=[i for i in range(1,11) if (i%2==0)]\n",
    "print(li)"
   ]
  },
  {
   "cell_type": "code",
   "execution_count": 13,
   "id": "a08e22b4",
   "metadata": {},
   "outputs": [
    {
     "name": "stdout",
     "output_type": "stream",
     "text": [
      "['odd', 2, 'odd', 4, 'odd', 6, 'odd', 8, 'odd', 10]\n"
     ]
    }
   ],
   "source": [
    "li=([i if i%2==0 else \"odd\" for i in range(1,11)])\n",
    "print(li)"
   ]
  },
  {
   "cell_type": "code",
   "execution_count": 14,
   "id": "b11d9319",
   "metadata": {},
   "outputs": [
    {
     "name": "stdout",
     "output_type": "stream",
     "text": [
      "[(1, 'odd'), (2, 'even'), (3, 'odd'), (4, 'even'), (5, 'odd'), (6, 'even'), (7, 'odd'), (8, 'even'), (9, 'odd'), (10, 'even')]\n"
     ]
    }
   ],
   "source": [
    "print([(i,\"even\") if i%2==0 else (i,\"odd\") for i in range(1,11)])"
   ]
  },
  {
   "cell_type": "code",
   "execution_count": 15,
   "id": "f095f5f5",
   "metadata": {},
   "outputs": [
    {
     "name": "stdout",
     "output_type": "stream",
     "text": [
      "['stay', 'home', 'stay', 'safe', 'python', 'class']\n"
     ]
    }
   ],
   "source": [
    "a=['stay home','stay safe','python class']\n",
    "li=[]\n",
    "for i in a:\n",
    "    for j in i.split():\n",
    "        li.append(j)\n",
    "print(li)"
   ]
  },
  {
   "cell_type": "code",
   "execution_count": 16,
   "id": "4ce4c948",
   "metadata": {},
   "outputs": [
    {
     "name": "stdout",
     "output_type": "stream",
     "text": [
      "['stay', 'home', 'stay', 'safe', 'python', 'class']\n"
     ]
    }
   ],
   "source": [
    "x=[j for i in a for j in i.split()]\n",
    "print(x)"
   ]
  },
  {
   "cell_type": "code",
   "execution_count": 18,
   "id": "94fab154",
   "metadata": {},
   "outputs": [
    {
     "data": {
      "text/plain": [
       "[[1, 2, 3, 4, 5, 6, 7, 8, 9, 10],\n",
       " [2, 4, 6, 8, 10, 12, 14, 16, 18, 20],\n",
       " [3, 6, 9, 12, 15, 18, 21, 24, 27, 30],\n",
       " [4, 8, 12, 16, 20, 24, 28, 32, 36, 40],\n",
       " [5, 10, 15, 20, 25, 30, 35, 40, 45, 50],\n",
       " [6, 12, 18, 24, 30, 36, 42, 48, 54, 60],\n",
       " [7, 14, 21, 28, 35, 42, 49, 56, 63, 70],\n",
       " [8, 16, 24, 32, 40, 48, 56, 64, 72, 80],\n",
       " [9, 18, 27, 36, 45, 54, 63, 72, 81, 90],\n",
       " [10, 20, 30, 40, 50, 60, 70, 80, 90, 100]]"
      ]
     },
     "execution_count": 18,
     "metadata": {},
     "output_type": "execute_result"
    }
   ],
   "source": [
    "a=[[i*j for i in range(1,11)] for j in range(1,11)]\n",
    "a"
   ]
  },
  {
   "cell_type": "code",
   "execution_count": 20,
   "id": "b5cb495f",
   "metadata": {},
   "outputs": [
    {
     "name": "stdout",
     "output_type": "stream",
     "text": [
      "{'N130057': 'meghaana', 'N130038': 'bharath', 'N1330039': 'mani'}\n"
     ]
    }
   ],
   "source": [
    "# dictionary comprehension  \n",
    "id_no=['N130057','N130038','N1330039']\n",
    "names=['meghaana','bharath','mani']\n",
    "c={}\n",
    "for(key,value)in zip(id_no,names):\n",
    "    c[key]= value\n",
    "print(c)"
   ]
  },
  {
   "cell_type": "code",
   "execution_count": 21,
   "id": "0f1a0612",
   "metadata": {},
   "outputs": [
    {
     "data": {
      "text/plain": [
       "{1: 2, 2: 4, 3: 6, 4: 8, 5: 10, 6: 12, 7: 14, 8: 16, 9: 18, 10: 20}"
      ]
     },
     "execution_count": 21,
     "metadata": {},
     "output_type": "execute_result"
    }
   ],
   "source": [
    "d={i:i*2 for i in range(1,11)}\n",
    "d"
   ]
  },
  {
   "cell_type": "code",
   "execution_count": 22,
   "id": "7fc38d12",
   "metadata": {},
   "outputs": [
    {
     "data": {
      "text/plain": [
       "{'o': 1, 'r': 1, 'u': 1, 'g': 1, 'l': 1}"
      ]
     },
     "execution_count": 22,
     "metadata": {},
     "output_type": "execute_result"
    }
   ],
   "source": [
    "li=['o','r','u','g','l']\n",
    "{i:li.count(i)for i in li}"
   ]
  },
  {
   "cell_type": "code",
   "execution_count": 24,
   "id": "066e6597",
   "metadata": {},
   "outputs": [
    {
     "name": "stdout",
     "output_type": "stream",
     "text": [
      "{0: 'A', 1: 'B', 2: 'C', 3: 'D', 4: 'E', 5: 'F', 6: 'G', 7: 'H', 8: 'I', 9: 'J'}\n"
     ]
    }
   ],
   "source": [
    "#{0:A 1:B 3:C}\n",
    "d={i:chr(65+i)for i in range(10)}\n",
    "print(d)"
   ]
  },
  {
   "cell_type": "code",
   "execution_count": 26,
   "id": "b4e94a42",
   "metadata": {},
   "outputs": [
    {
     "data": {
      "text/plain": [
       "{'sandy': 5, 'siezer': 6, 'chintu': 6}"
      ]
     },
     "execution_count": 26,
     "metadata": {},
     "output_type": "execute_result"
    }
   ],
   "source": [
    "names=['sandy','siezer','chintu']\n",
    "d={i:len(i)for i in names}\n",
    "d"
   ]
  },
  {
   "cell_type": "code",
   "execution_count": 27,
   "id": "e32fdfe6",
   "metadata": {},
   "outputs": [
    {
     "data": {
      "text/plain": [
       "{6, 12, 18, 24, 30}"
      ]
     },
     "execution_count": 27,
     "metadata": {},
     "output_type": "execute_result"
    }
   ],
   "source": [
    "# set comprehension \n",
    "s={i*3 for i in range(1,11)if i%2==0}\n",
    "s"
   ]
  },
  {
   "cell_type": "code",
   "execution_count": 29,
   "id": "17e5ae1b",
   "metadata": {},
   "outputs": [
    {
     "data": {
      "text/plain": [
       "{6, 12, 18}"
      ]
     },
     "execution_count": 29,
     "metadata": {},
     "output_type": "execute_result"
    }
   ],
   "source": [
    "s={i*3 for i in [1,2,3,4,5,6,7]if i%2==0}\n",
    "s"
   ]
  },
  {
   "cell_type": "code",
   "execution_count": 30,
   "id": "a429a195",
   "metadata": {},
   "outputs": [
    {
     "data": {
      "text/plain": [
       "<generator object <genexpr> at 0x0000007FDB2E13C0>"
      ]
     },
     "execution_count": 30,
     "metadata": {},
     "output_type": "execute_result"
    }
   ],
   "source": [
    "# generator comprehension  \n",
    "c=(i*3  for i in range(5))\n",
    "c"
   ]
  },
  {
   "cell_type": "markdown",
   "id": "9bc09604",
   "metadata": {},
   "source": [
    "### iterators and generators\n",
    "- iterator:iter is an object in python, it contains no elements\n",
    "- 2 methods\n",
    "  - iter\n",
    "  - next\n",
    "- list,set,tuple,dic these all are iterable objects"
   ]
  },
  {
   "cell_type": "code",
   "execution_count": 31,
   "id": "24e9f2f9",
   "metadata": {},
   "outputs": [
    {
     "name": "stdout",
     "output_type": "stream",
     "text": [
      "p\n",
      "y\n",
      "t\n",
      "h\n",
      "o\n",
      "n\n"
     ]
    }
   ],
   "source": [
    "a=\"python\"\n",
    "for i in a:\n",
    "    print(i)"
   ]
  },
  {
   "cell_type": "code",
   "execution_count": 32,
   "id": "0d32d105",
   "metadata": {},
   "outputs": [
    {
     "name": "stdout",
     "output_type": "stream",
     "text": [
      "<str_iterator object at 0x0000007FDB003790>\n",
      "p\n",
      "y\n",
      "t\n"
     ]
    }
   ],
   "source": [
    "s=iter('python')\n",
    "print(s)\n",
    "print(next(s))\n",
    "print(next(s))\n",
    "print(next(s))"
   ]
  },
  {
   "cell_type": "markdown",
   "id": "d448a75e",
   "metadata": {},
   "source": [
    "### generators\n",
    "- generator can be used to either functions or comprehensions\n",
    "- it returns a iterator or objects\n",
    "- in generator 'yield' can be used in place of return "
   ]
  },
  {
   "cell_type": "code",
   "execution_count": 33,
   "id": "5bf158e1",
   "metadata": {},
   "outputs": [
    {
     "data": {
      "text/plain": [
       "'e'"
      ]
     },
     "execution_count": 33,
     "metadata": {},
     "output_type": "execute_result"
    }
   ],
   "source": [
    "def python():\n",
    "    return 'e'\n",
    "    print('place')\n",
    "python()"
   ]
  },
  {
   "cell_type": "code",
   "execution_count": 34,
   "id": "649f2772",
   "metadata": {},
   "outputs": [
    {
     "name": "stdout",
     "output_type": "stream",
     "text": [
      "mango\n",
      "program\n"
     ]
    }
   ],
   "source": [
    "def python():\n",
    "    yield 'mango'\n",
    "    yield 'program'\n",
    "# python  \n",
    "for ch in python():\n",
    "    print(ch)"
   ]
  },
  {
   "cell_type": "markdown",
   "id": "db5ce421",
   "metadata": {},
   "source": [
    "### functional programming \n",
    "- lambda\n",
    "- map\n",
    "- filter\n",
    "- reduce"
   ]
  },
  {
   "cell_type": "markdown",
   "id": "382ea1d4",
   "metadata": {},
   "source": [
    " #### lambda\n",
    " - anonymous function or single line function\n",
    " - single expression, no of arguements  \n",
    " - syntax::lambda arguerments:expression"
   ]
  },
  {
   "cell_type": "code",
   "execution_count": 35,
   "id": "b2f8dc33",
   "metadata": {},
   "outputs": [
    {
     "data": {
      "text/plain": [
       "9"
      ]
     },
     "execution_count": 35,
     "metadata": {},
     "output_type": "execute_result"
    }
   ],
   "source": [
    "def add(a,b):\n",
    "    return a+b\n",
    "add(4,5)\n",
    "    "
   ]
  },
  {
   "cell_type": "code",
   "execution_count": 37,
   "id": "bb90a384",
   "metadata": {},
   "outputs": [
    {
     "name": "stdout",
     "output_type": "stream",
     "text": [
      "4 5\n"
     ]
    }
   ],
   "source": [
    "b=lambda a,b:a+b\n",
    "print(4,5)"
   ]
  },
  {
   "cell_type": "markdown",
   "id": "0e74d2ea",
   "metadata": {},
   "source": [
    "### map\n",
    "- syntax::map(function.iterable)"
   ]
  },
  {
   "cell_type": "code",
   "execution_count": 38,
   "id": "9525a67f",
   "metadata": {},
   "outputs": [
    {
     "data": {
      "text/plain": [
       "{2, 4, 6, 8}"
      ]
     },
     "execution_count": 38,
     "metadata": {},
     "output_type": "execute_result"
    }
   ],
   "source": [
    "s= set(map(lambda i:i*2,[1,2,3,4]))\n",
    "s"
   ]
  },
  {
   "cell_type": "code",
   "execution_count": 43,
   "id": "9b9d70d2",
   "metadata": {},
   "outputs": [],
   "source": [
    "def mul():\n",
    "    return i*3"
   ]
  },
  {
   "cell_type": "code",
   "execution_count": 44,
   "id": "233d9e0f",
   "metadata": {},
   "outputs": [
    {
     "ename": "TypeError",
     "evalue": "mul() takes 0 positional arguments but 1 was given",
     "output_type": "error",
     "traceback": [
      "\u001b[1;31m---------------------------------------------------------------------------\u001b[0m",
      "\u001b[1;31mTypeError\u001b[0m                                 Traceback (most recent call last)",
      "\u001b[1;32m~\\AppData\\Local\\Temp/ipykernel_4488/1462456801.py\u001b[0m in \u001b[0;36m<module>\u001b[1;34m\u001b[0m\n\u001b[1;32m----> 1\u001b[1;33m \u001b[0mli\u001b[0m\u001b[1;33m=\u001b[0m\u001b[0mlist\u001b[0m\u001b[1;33m(\u001b[0m\u001b[0mmap\u001b[0m\u001b[1;33m(\u001b[0m\u001b[0mmul\u001b[0m\u001b[1;33m,\u001b[0m\u001b[1;33m[\u001b[0m\u001b[1;36m1\u001b[0m\u001b[1;33m,\u001b[0m\u001b[1;36m2\u001b[0m\u001b[1;33m,\u001b[0m\u001b[1;36m3\u001b[0m\u001b[1;33m,\u001b[0m\u001b[1;36m4\u001b[0m\u001b[1;33m,\u001b[0m\u001b[1;36m5\u001b[0m\u001b[1;33m,\u001b[0m\u001b[1;36m6\u001b[0m\u001b[1;33m,\u001b[0m\u001b[1;36m7\u001b[0m\u001b[1;33m]\u001b[0m\u001b[1;33m)\u001b[0m\u001b[1;33m)\u001b[0m\u001b[1;33m\u001b[0m\u001b[1;33m\u001b[0m\u001b[0m\n\u001b[0m\u001b[0;32m      2\u001b[0m \u001b[0mli\u001b[0m\u001b[1;33m\u001b[0m\u001b[1;33m\u001b[0m\u001b[0m\n",
      "\u001b[1;31mTypeError\u001b[0m: mul() takes 0 positional arguments but 1 was given"
     ]
    }
   ],
   "source": [
    "li=list(map(mul,[1,2,3,4,5,6,7]))\n",
    "li"
   ]
  },
  {
   "cell_type": "code",
   "execution_count": null,
   "id": "e3ef4a9a",
   "metadata": {},
   "outputs": [],
   "source": []
  }
 ],
 "metadata": {
  "kernelspec": {
   "display_name": "Python 3 (ipykernel)",
   "language": "python",
   "name": "python3"
  },
  "language_info": {
   "codemirror_mode": {
    "name": "ipython",
    "version": 3
   },
   "file_extension": ".py",
   "mimetype": "text/x-python",
   "name": "python",
   "nbconvert_exporter": "python",
   "pygments_lexer": "ipython3",
   "version": "3.9.7"
  }
 },
 "nbformat": 4,
 "nbformat_minor": 5
}
